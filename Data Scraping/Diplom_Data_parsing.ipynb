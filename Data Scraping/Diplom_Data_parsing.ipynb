{
 "cells": [
  {
   "cell_type": "code",
   "execution_count": 1,
   "id": "d2b59ad5",
   "metadata": {},
   "outputs": [],
   "source": [
    "import requests\n",
    "import time\n",
    "from bs4 import BeautifulSoup as bs"
   ]
  },
  {
   "cell_type": "code",
   "execution_count": 56,
   "id": "26e1196e",
   "metadata": {},
   "outputs": [],
   "source": [
    "def get_info(url, headers):\n",
    "    r = requests.get(url, headers)\n",
    "    #Convert to a beautifulsoup object\n",
    "    soup = bs(r.content)\n",
    "    \n",
    "    price = soup.find(class_='offer__price').get_text(' ', strip=True).replace('\\xa0', '')\n",
    "    price = price[:-2]\n",
    "    \n",
    "    #////////////////////\n",
    "    roomslst = soup.find(class_='offer__advert-title').get_text(' ', strip=True).replace('\\xa0', '')\n",
    "    num_room = roomslst[0]\n",
    "    \n",
    "    all_info2 = []\n",
    "    all_info3 = []\n",
    "    \n",
    "    ch_lst = []\n",
    "    sign_pos = 2\n",
    "    zone1 = soup.find(class_='offer__location offer__advert-short-info').get_text()\n",
    "    #for ind, ch in enumerate(zone1):\n",
    "        #ch_lst.append(ch)\n",
    "        \n",
    "    #zone1 = zone1[:sign_pos+1]\n",
    "    \n",
    "    short_data = soup.find_all(class_='offer__advert-short-info')\n",
    "    for a in short_data:\n",
    "        all_info3.append(a.get_text())\n",
    "    \n",
    "    short_data2 = soup.find_all(class_='offer__parameters')\n",
    "    for a in short_data2:\n",
    "        all_info2.append(a.get_text())\n",
    "    \n",
    "    lens = len(all_info3)\n",
    "    \n",
    "    ai2 = [i.replace(' ', '') for i in all_info2]\n",
    "    ai2 = [i.replace('\\n\\n\\n', ', ') for i in ai2]\n",
    "    ai2 = [i.replace('\\n\\n', '') for i in ai2]\n",
    "    ai2 = [i.replace('\\n', ' ') for i in ai2]\n",
    "    another_list = all_info3[-(lens-1):] + ai2\n",
    "    \n",
    "    final_list = []\n",
    "    split_str = another_list[-1].split(', ')\n",
    "    main_list = another_list[:-1]\n",
    "    \n",
    "    for i in main_list:\n",
    "        if i == \"монолитный\" or i == \"панельный\" or i == \"кирпичный\":\n",
    "            building_type = i\n",
    "            break\n",
    "        building_type = '-'\n",
    "    \n",
    "    eng_abc = [\"A\",\"B\",\"C\",\"D\",\"E\",\"F\",\"G\",\"H\",\"I\",\"J\",\"K\",\"L\",\"M\",\"N\",\"O\",\"P\",\"Q\",\"R\",\"S\",\"T\",\"U\",\"V\",\"W\",\"Y\",\"Z\"]\n",
    "    rus_abc = [\"Ц\",\"У\",\"К\",\"Е\",\"Н\",\"Г\",\"Ш\",\"Щ\",\"З\",\"Х\",\"Ф\",\"Ы\",\"В\",\"А\",\"П\",\"Р\",\"О\",\"Л\",\"Д\",\"Ж\",\"Э\",\"Я\",\"Ч\",\"С\",\"М\",\"И\",\"Т\",\"Б\",\"Ю\",\"Ё\",\"«\"]\n",
    "    \n",
    "    for i in main_list:\n",
    "        if i[0] in eng_abc or i[0] in rus_abc:\n",
    "            zone = i\n",
    "            break\n",
    "        zone = '-'\n",
    "    for i in main_list:\n",
    "        if i[:2] == '20' or i[:2] == '19':\n",
    "            if int(i) >= 1970 and int(i) <= 2024:\n",
    "                year = int(i)\n",
    "    n_floor = []\n",
    "    total_floor = []\n",
    "    n_floor = [int(i[:2]) for i in main_list if i[2:4] == 'из']\n",
    "    total_floor = [int(i[-2:]) for i in main_list if i[2:4] == 'из']\n",
    "    \n",
    "    if n_floor == []:\n",
    "        n_floor.append('-')\n",
    "    if total_floor == []:\n",
    "        total_floor.append('-')\n",
    "        \n",
    "    for i in main_list:\n",
    "        if 'Площадь кухни' in i:\n",
    "            for ind, j in enumerate(i):\n",
    "                if j == \"П\":\n",
    "                    sqrft_kchn = i[ind+16:]\n",
    "                    \n",
    "            break\n",
    "        else:\n",
    "            sqrft_kchn = 0  \n",
    "            \n",
    "    sqrft = [int(i[:2]) for i in main_list if 'м²' in i]\n",
    "    \n",
    "    \n",
    "    if 'паркинг' in another_list:\n",
    "        parking = 1\n",
    "    elif 'Парковка паркинг' in split_str:\n",
    "        parking = 1\n",
    "    else:\n",
    "        parking = 0\n",
    "        \n",
    "    if 'черновая отделка' in another_list:\n",
    "        rough_finish = 1\n",
    "    elif 'Состояние черновая отделка' in split_str:\n",
    "        rough_finish = 1\n",
    "    else:\n",
    "        rough_finish = 0\n",
    "        \n",
    "    ceiling = []\n",
    "    ceiling = [i[-4:] for i in split_str if 'Потолки' in i and '.' in i]\n",
    "    if ceiling == []:\n",
    "        ceiling = [i[-2:] for i in split_str if 'Потолки' in i]\n",
    "    if ceiling == []:\n",
    "        ceiling.append('-')\n",
    "        \n",
    "    if 'Санузел 2с/уиболее' in split_str:\n",
    "        toilet = 1\n",
    "    else:\n",
    "        toilet = 0\n",
    "        \n",
    "        \n",
    "        \n",
    "        \n",
    "    final_list.append(building_type)\n",
    "    final_list.append(zone1)\n",
    "    final_list.append(year)\n",
    "    final_list.append(n_floor[0])\n",
    "    final_list.append(total_floor[0])\n",
    "    final_list.append(sqrft[0])\n",
    "    final_list.append(sqrft_kchn)\n",
    "    final_list.append(ceiling[0])\n",
    "    final_list.append(toilet)\n",
    "    final_list.append(parking)\n",
    "    final_list.append(rough_finish)\n",
    "    final_list.append(int(num_room))\n",
    "    final_list.append(price)\n",
    "    \n",
    "        \n",
    "    return final_list"
   ]
  },
  {
   "cell_type": "code",
   "execution_count": 57,
   "id": "7d5457e9",
   "metadata": {
    "scrolled": true
   },
   "outputs": [
    {
     "name": "stdout",
     "output_type": "stream",
     "text": [
      "['кирпичный', '\\nАстана, Есильский р-н\\nпоказать на карте\\n', 2021, 7, 12, 59, '8 м²', '3м', 0, 0, 0, 2, '30900000']\n"
     ]
    }
   ],
   "source": [
    "print(get_info('https://krisha.kz/a/show/682844355', {\"User-Agent\": \"Mozilla/5.0 (Windows NT 10.0; Win64; x64) AppleWebKit/537.36 (KHTML, like Gecko) Chrome/112.0.0.0 Safari/537.36\"}))"
   ]
  },
  {
   "cell_type": "code",
   "execution_count": 210,
   "id": "4a7759b7",
   "metadata": {},
   "outputs": [
    {
     "name": "stdout",
     "output_type": "stream",
     "text": [
      "['панельный', '-', 1990, 4, 9, 66, '8.5 м²', '2.7м', 0, 0, 0, 3, 31000000]\n"
     ]
    }
   ],
   "source": [
    "print(get_info('https://krisha.kz/a/show/681794518'))"
   ]
  },
  {
   "cell_type": "code",
   "execution_count": 211,
   "id": "28f1cc4f",
   "metadata": {},
   "outputs": [
    {
     "name": "stdout",
     "output_type": "stream",
     "text": [
      "['кирпичный', 'Mechta', 2022, 7, 10, 37, 0, '3м', 0, 0, 0, 1, 23500000]\n"
     ]
    }
   ],
   "source": [
    "print(get_info('https://krisha.kz/a/show/682225715'))"
   ]
  },
  {
   "cell_type": "code",
   "execution_count": 58,
   "id": "2b711125",
   "metadata": {},
   "outputs": [],
   "source": [
    "def ad_conn(url, headers):\n",
    "    \n",
    "    base_path = 'https://krisha.kz'\n",
    "    r = requests.get(url, headers)\n",
    "    soup = bs(r.content)\n",
    "    ads = soup.find_all(class_='a-card__title')\n",
    "    \n",
    "    links = []\n",
    "    for ad in ads:\n",
    "        links.append(ad.get('href'))\n",
    "    \n",
    "    dataset = []\n",
    "    for index, link in enumerate(links):\n",
    "        try:\n",
    "            relative_path = link\n",
    "            full_path = base_path + relative_path\n",
    "            dataset.append(get_info(full_path, headers))\n",
    "        except Exception as e:\n",
    "            continue\n",
    "            \n",
    "    return dataset"
   ]
  },
  {
   "cell_type": "code",
   "execution_count": 63,
   "id": "444fc458",
   "metadata": {},
   "outputs": [
    {
     "name": "stdout",
     "output_type": "stream",
     "text": [
      "[['монолитный', 'Мерей Интерконти', 2007, 2, 20, 45, 0, '3м', 0, 1, 0, 2, 20500000], ['монолитный', 'Медина', 2019, 8, 13, 41, 0, '2.7м', 0, 1, 0, 1, 15500000], ['монолитный', 'Koktal park', 2022, 1, 6, 25, 0, '2.8м', 0, 0, 1, 1, 8200000], ['монолитный', 'Гранд Астана Элит', 2011, 3, 21, 10, 0, '3м', 1, 1, 0, 3, 46000000], ['кирпичный', 'ЖК Баскару 2, 3, 4', 2022, '-', '-', 32, 0, '2.7м', 0, 1, 0, 1, 15000000], ['монолитный', 'Кок жайлау', 2019, 8, 10, 40, 0, '-', 0, 1, 0, 2, 23999000], ['монолитный', 'Алмалы', 2016, '-', '-', 62, 0, '-', 0, 1, 0, 2, 33500000], ['монолитный', 'Angleterre', 2019, 5, 9, 38, '11 м²', '3м', 0, 0, 0, 1, 18500000], ['кирпичный', 'Жети Жол', 2015, '-', '-', 42, 0, '-', 0, 0, 0, 2, 18900000], ['кирпичный', 'Шыгыс', 2021, 4, 7, 76, '9 м²', '-', 0, 0, 0, 3, 32500000]]\n"
     ]
    }
   ],
   "source": [
    "print(ad_conn('https://krisha.kz/prodazha/kvartiry/astana/?das[_sys.fromAgent]=1&das[who]=1'))"
   ]
  },
  {
   "cell_type": "code",
   "execution_count": 59,
   "id": "43f8f52e",
   "metadata": {},
   "outputs": [],
   "source": [
    "def pg_conn(url, headers, x):\n",
    "    r = requests.get(url, headers)\n",
    "    soup = bs(r.content)\n",
    "    pgs = soup.find_all(class_='paginator__btn')\n",
    "    \n",
    "    link = pgs[x+1].get('href')\n",
    "    \n",
    "    return link"
   ]
  },
  {
   "cell_type": "code",
   "execution_count": 42,
   "id": "234cc7ee",
   "metadata": {},
   "outputs": [
    {
     "name": "stdout",
     "output_type": "stream",
     "text": [
      "['/prodazha/kvartiry/astana/?das[_sys.fromAgent]=1&das[who]=1', '/prodazha/kvartiry/astana/?das[_sys.fromAgent]=1&das[who]=1&page=2', '/prodazha/kvartiry/astana/?das[_sys.fromAgent]=1&das[who]=1&page=3', '/prodazha/kvartiry/astana/?das[_sys.fromAgent]=1&das[who]=1&page=4', '/prodazha/kvartiry/astana/?das[_sys.fromAgent]=1&das[who]=1&page=5', '/prodazha/kvartiry/astana/?das[_sys.fromAgent]=1&das[who]=1&page=6', '/prodazha/kvartiry/astana/?das[_sys.fromAgent]=1&das[who]=1&page=7', '/prodazha/kvartiry/astana/?das[_sys.fromAgent]=1&das[who]=1&page=8', None, '/prodazha/kvartiry/astana/?das[_sys.fromAgent]=1&das[who]=1&page=1000', '/prodazha/kvartiry/astana/?das[_sys.fromAgent]=1&das[who]=1&page=2']\n"
     ]
    }
   ],
   "source": [
    "print(pg_conn('https://krisha.kz/prodazha/kvartiry/astana/?das[_sys.fromAgent]=1&das[who]=1', 0))"
   ]
  },
  {
   "cell_type": "code",
   "execution_count": 80,
   "id": "2e264470",
   "metadata": {},
   "outputs": [
    {
     "name": "stdout",
     "output_type": "stream",
     "text": [
      "492\n"
     ]
    }
   ],
   "source": [
    "import csv\n",
    "\n",
    "url = \"https://krisha.kz/prodazha/kvartiry/astana/?page=975\"\n",
    "dataset = []\n",
    "base_path = 'https://krisha.kz'\n",
    "headers = {\"User-Agent\": \"Mozilla/5.0 (Windows NT 10.0; Win64; x64) AppleWebKit/537.36 (KHTML, like Gecko) Chrome/112.0.0.0 Safari/537.36\"}\n",
    "y = 0\n",
    "for x in range(25):\n",
    "    if y % 3 == 0:\n",
    "        time.sleep(40)\n",
    "    dataset.append(ad_conn(url, headers))\n",
    "    url = base_path + pg_conn(url, headers, 6)\n",
    "    y+=1\n",
    "        \n",
    "\n",
    "datasetto = []\n",
    "if dataset != []:\n",
    "    for i in dataset:\n",
    "        for j in i:\n",
    "            datasetto.append(j)\n",
    "\n",
    "    header = ['building_type','zone','year','n_floor','total_floor','area','kchn_area', \\\n",
    "              'ceiling','toilet','parking','rough_finish','num_room','price']\n",
    "\n",
    "    with open('Df1000.csv', 'w', newline='', encoding='UTF8') as f:\n",
    "        writer = csv.writer(f)\n",
    "        writer.writerow(header)\n",
    "        for i in range(len(datasetto)):\n",
    "            building_type = datasetto[i][0]\n",
    "            zone = datasetto[i][1]\n",
    "            year = datasetto[i][2]\n",
    "            n_floor = datasetto[i][3]\n",
    "            total_floor = datasetto[i][4]\n",
    "            area = datasetto[i][5]\n",
    "            kchn_area = datasetto[i][6]\n",
    "            ceiling = datasetto[i][7]\n",
    "            toilet = datasetto[i][8]\n",
    "            parking = datasetto[i][9]\n",
    "            rough_finish = datasetto[i][10]\n",
    "            num_room = datasetto[i][11]\n",
    "            price = datasetto[i][12]\n",
    "        \n",
    "            data = [building_type, zone, year, n_floor, total_floor, area, kchn_area, ceiling, toilet, parking, rough_finish, num_room, price]\n",
    "            writer.writerow(data)\n",
    "            \n",
    "print(len(datasetto))"
   ]
  },
  {
   "cell_type": "code",
   "execution_count": 10,
   "id": "2d45f66c",
   "metadata": {},
   "outputs": [
    {
     "name": "stdout",
     "output_type": "stream",
     "text": [
      "20\n"
     ]
    }
   ],
   "source": [
    "print(len(dataset[106]))"
   ]
  },
  {
   "cell_type": "code",
   "execution_count": 12,
   "id": "51160671",
   "metadata": {},
   "outputs": [],
   "source": [
    "dataset_100 = dataset\n",
    "\n",
    "final_list.append(building_type)\n",
    "    final_list.append(zone)\n",
    "    final_list.append(year)\n",
    "    final_list.append(n_floor[0])\n",
    "    final_list.append(total_floor[0])\n",
    "    final_list.append(sqrft[0])\n",
    "    final_list.append(sqrft_kchn)\n",
    "    final_list.append(ceiling[0])\n",
    "    final_list.append(toilet)\n",
    "    final_list.append(parking)\n",
    "    final_list.append(rough_finish)\n",
    "    final_list.append(int(num_room))\n",
    "    final_list.append(price)"
   ]
  },
  {
   "cell_type": "code",
   "execution_count": 14,
   "id": "b84a88e1",
   "metadata": {},
   "outputs": [
    {
     "name": "stdout",
     "output_type": "stream",
     "text": [
      "2092\n"
     ]
    }
   ],
   "source": [
    "n_records = 0\n",
    "dataset_100_new = []\n",
    "for i in dataset_100:\n",
    "    for j in i:\n",
    "        dataset_100_new.append(j)\n",
    "print(len(dataset_100_new))"
   ]
  },
  {
   "cell_type": "code",
   "execution_count": 15,
   "id": "6e066ad3",
   "metadata": {},
   "outputs": [],
   "source": [
    "import csv\n",
    "\n",
    "header = ['building_type','residential_complex','year','n_floor','total_floor','area','kchn_area', \\\n",
    "          'ceiling','toilet','parking','rough_finish','num_room','price']\n",
    "\n",
    "with open('Dataset100.csv', 'w', newline='', encoding='UTF8') as f:\n",
    "    writer = csv.writer(f)\n",
    "    writer.writerow(header)\n",
    "    for i in range(len(dataset_100_new)):\n",
    "        building_type = dataset_100_new[i][0]\n",
    "        residential_complex = dataset_100_new[i][1]\n",
    "        year = dataset_100_new[i][2]\n",
    "        n_floor = dataset_100_new[i][3]\n",
    "        total_floor = dataset_100_new[i][4]\n",
    "        area = dataset_100_new[i][5]\n",
    "        kchn_area = dataset_100_new[i][6]\n",
    "        ceiling = dataset_100_new[i][7]\n",
    "        toilet = dataset_100_new[i][8]\n",
    "        parking = dataset_100_new[i][9]\n",
    "        rough_finish = dataset_100_new[i][10]\n",
    "        num_room = dataset_100_new[i][11]\n",
    "        price = dataset_100_new[i][12]\n",
    "        \n",
    "        data = [building_type, residential_complex, year, n_floor, total_floor, area, kchn_area, ceiling, toilet, parking, rough_finish, num_room, price]\n",
    "        writer.writerow(data)"
   ]
  },
  {
   "cell_type": "code",
   "execution_count": 16,
   "id": "5cdb6b36",
   "metadata": {},
   "outputs": [
    {
     "name": "stdout",
     "output_type": "stream",
     "text": [
      "  building_type residential_complex  year n_floor total_floor  area kchn_area  \\\n",
      "0    монолитный         Столичный 2  2023       -           -    65         0   \n",
      "1     кирпичный                Yrys  2024       -           -    40         0   \n",
      "2    монолитный              Shabyt  2023       -           -    41         0   \n",
      "3    монолитный                   -  1983       4           5    72      9 м²   \n",
      "4    монолитный          Esil Tower  2022       -           -    47     13 м²   \n",
      "\n",
      "  ceiling  toilet  parking  rough_finish  num_room        price  \n",
      "0       -       0        0             0         2  от 26376000  \n",
      "1       -       0        0             0         1   от 9796800  \n",
      "2       -       0        0             0         1  от 22888540  \n",
      "3       -       0        0             0         4     34000000  \n",
      "4    2.9м       0        1             0         1     35000000  \n",
      "2092\n"
     ]
    }
   ],
   "source": [
    "import pandas as pd\n",
    "\n",
    "df = pd.read_csv('Dataset100.csv')\n",
    "\n",
    "print(df.head())\n",
    "print(len(df))"
   ]
  },
  {
   "cell_type": "code",
   "execution_count": null,
   "id": "05ee8849",
   "metadata": {},
   "outputs": [],
   "source": []
  }
 ],
 "metadata": {
  "kernelspec": {
   "display_name": "Python 3 (ipykernel)",
   "language": "python",
   "name": "python3"
  },
  "language_info": {
   "codemirror_mode": {
    "name": "ipython",
    "version": 3
   },
   "file_extension": ".py",
   "mimetype": "text/x-python",
   "name": "python",
   "nbconvert_exporter": "python",
   "pygments_lexer": "ipython3",
   "version": "3.11.5"
  }
 },
 "nbformat": 4,
 "nbformat_minor": 5
}
