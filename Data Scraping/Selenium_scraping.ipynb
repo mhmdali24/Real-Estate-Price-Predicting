{
 "cells": [
  {
   "cell_type": "code",
   "execution_count": 1,
   "id": "217de924",
   "metadata": {},
   "outputs": [],
   "source": [
    "import time \n",
    "from selenium import webdriver"
   ]
  },
  {
   "cell_type": "code",
   "execution_count": 143,
   "id": "b55125fe",
   "metadata": {},
   "outputs": [
    {
     "name": "stdout",
     "output_type": "stream",
     "text": [
      "ул. Акан сери, д. 18\n"
     ]
    }
   ],
   "source": [
    "url = 'https://astana.etagi.com/realty/8167319/'\n",
    "driver = webdriver.Chrome()\n",
    "driver.get(url)\n",
    "lst = []\n",
    "lst2 = []\n",
    "lst3 = []\n",
    "\n",
    "btn = driver.find_element_by_xpath('//*[@id=\"characteristics\"]/div/div/button')\n",
    "btn.click()\n",
    "\n",
    "link = driver.find_element_by_xpath('//*[@id=\"about\"]/div[1]/div/div[1]/div[1]/div/div/div/div[1]/span/a').get_attribute('href')\n",
    "room_n = driver.find_element_by_xpath('//*[@id=\"characteristics\"]/div/div/div[4]/ul/li[1]/span[2]').text\n",
    "area = driver.find_element_by_xpath('//*[@id=\"characteristics\"]/div/div/div[3]/ul/li[2]/span[2]').text\n",
    "remont = driver.find_element_by_xpath('//*[@id=\"characteristics\"]/div/div/div[3]/ul/li[3]/span[2]').text\n",
    "year = driver.find_element_by_xpath('//*[@id=\"characteristics\"]/div/div/div[3]/ul/li[4]/span[2]').text\n",
    "floor = driver.find_element_by_xpath('//*[@id=\"characteristics\"]/div/div/div[3]/ul/li[5]/span[2]').text\n",
    "walls = driver.find_element_by_xpath('//*[@id=\"characteristics\"]/div/div/div[3]/ul/li[6]/span[2]').text\n",
    "ceiling = driver.find_element_by_xpath('//*[@id=\"characteristics\"]/div/div/div[4]/ul/li[2]/span[2]').text\n",
    "toilet = driver.find_element_by_xpath('//*[@id=\"characteristics\"]/div/div/div[4]/ul/li[3]/span[2]').text\n",
    "dvor = driver.find_element_by_xpath('//*[@id=\"characteristics\"]/div/div/div[10]/ul/li[1]/span[2]').text\n",
    "parking = driver.find_element_by_xpath('//*[@id=\"characteristics\"]/div/div/div[10]/ul/li[2]/span[2]').text\n",
    "dist_to_centre = driver.find_element_by_xpath('//*[@id=\"about\"]/div[1]/div/div[1]/div[1]/div/div/div/div[2]/div').text\n",
    "address = driver.find_element_by_xpath('//*[@id=\"about\"]/div[1]/div/div[1]/div[1]/div/div/div/div[2]/div').text\n",
    "\n",
    "for ind, ch in enumerate(dist_to_centre):\n",
    "    if ch == '(':\n",
    "        sign_pos = ind\n",
    "    if ch == 'д':\n",
    "        sign_pos2 = ind\n",
    "dist_to_centre = dist_to_centre[sign_pos+1 : sign_pos2]\n",
    "\n",
    "for ind, ch in enumerate(address):\n",
    "    if ch == 'у':\n",
    "        sign_pos = ind\n",
    "    if ch == '(':\n",
    "        sign_pos2 = ind\n",
    "address = address[sign_pos : sign_pos2-1]\n",
    "\n",
    "map_btn = driver.find_element_by_xpath('//*[@id=\"travelTime\"]/div/div/div[1]/div[2]/button')\n",
    "map_btn.click()\n",
    "time.sleep(1)\n",
    "\n",
    "school_btn = driver.find_element_by_xpath('//*[@id=\"gallery\"]/div/div[2]/div/div/div[1]/div[2]/div[1]/div/button[1]')\n",
    "school_btn.click()\n",
    "time_to_school = driver.find_element_by_xpath('//*[@id=\"gallery\"]/div/div[2]/div/div/div[1]/div[2]/div[2]/div[1]/div[2]/span').text\n",
    "rating = driver.find_element_by_xpath('//*[@id=\"gallery\"]/div/div[2]/div/div/div[1]/div[2]/div[2]/div[1]/div[2]/span/a').get_attribute('href')\n",
    "\n",
    "kids_school_btn = driver.find_element_by_xpath('//*[@id=\"gallery\"]/div/div[2]/div/div/div[1]/div[2]/div[1]/div/button[2]')\n",
    "kids_school_btn.click()\n",
    "time_to_ks = driver.find_element_by_xpath('//*[@id=\"gallery\"]/div/div[2]/div/div/div[1]/div[2]/div[2]/div[1]/div[3]/span').text\n",
    "rating2 = driver.find_element_by_xpath('//*[@id=\"gallery\"]/div/div[2]/div/div/div[1]/div[2]/div[2]/div[1]/div[2]/span/a').get_attribute('href')\n",
    "\n",
    "#hospital_btn = driver.find_element_by_xpath('//*[@id=\"gallery\"]/div/div[2]/div/div/div[1]/div[2]/div[1]/div/button[8]')\n",
    "#hospital_btn.click()\n",
    "#time_to_hospital = driver.find_element_by_xpath('/html/body/div[1]/main/div/div[2]/section[1]/div[1]/div/div[2]/div/div/div[1]/div[2]/div[2]/div[1]/div[3]/span').text\n",
    "#rating3 = driver.find_element_by_xpath('//*[@id=\"gallery\"]/div/div[2]/div/div/div[1]/div[2]/div[2]/div[1]/div[2]/span/a').get_attribute('href')\n",
    "\n",
    "driver.close()\n",
    "\n",
    "print(address)\n",
    "#print(rating)\n",
    "\n",
    "#print(lst2)\n",
    "#print(rating2)\n",
    "\n",
    "#print(lst3)\n",
    "#print(rating3)\n"
   ]
  },
  {
   "cell_type": "code",
   "execution_count": 4,
   "id": "191b75b0",
   "metadata": {},
   "outputs": [],
   "source": [
    "def ad_func(url):\n",
    "    driver = webdriver.Chrome()\n",
    "    driver.get(url)\n",
    "\n",
    "    btn = driver.find_element_by_xpath('//*[@id=\"characteristics\"]/div/div/button')\n",
    "    btn.click()\n",
    "    \n",
    "    lst = []\n",
    "    \n",
    "    price = driver.find_element_by_xpath('//*[@id=\"about\"]/div[1]/div/div/div[1]/div[1]/div[1]/span').text\n",
    "    lst.append(price)\n",
    "    room_n = driver.find_element_by_xpath('//*[@id=\"characteristics\"]/div/div/div[4]/ul/li[1]/span[2]').text\n",
    "    lst.append(room_n)\n",
    "    area = driver.find_element_by_xpath('//*[@id=\"characteristics\"]/div/div/div[3]/ul/li[2]/span[2]').text\n",
    "    lst.append(area)\n",
    "    remont = driver.find_element_by_xpath('//*[@id=\"characteristics\"]/div/div/div[3]/ul/li[3]/span[2]').text\n",
    "    lst.append(remont)\n",
    "    year = driver.find_element_by_xpath('//*[@id=\"characteristics\"]/div/div/div[3]/ul/li[4]/span[2]').text\n",
    "    lst.append(year)\n",
    "    floor = driver.find_element_by_xpath('//*[@id=\"characteristics\"]/div/div/div[3]/ul/li[5]/span[2]').text\n",
    "    lst.append(floor)\n",
    "    walls = driver.find_element_by_xpath('//*[@id=\"characteristics\"]/div/div/div[3]/ul/li[6]/span[2]').text\n",
    "    lst.append(walls)\n",
    "    ceiling = driver.find_element_by_xpath('//*[@id=\"characteristics\"]/div/div/div[4]/ul/li[2]/span[2]').text\n",
    "    lst.append(ceiling)\n",
    "    toilet = driver.find_element_by_xpath('//*[@id=\"characteristics\"]/div/div/div[4]/ul/li[3]/span[2]').text\n",
    "    lst.append(toilet)\n",
    "    dist_to_centre = driver.find_element_by_xpath('//*[@id=\"about\"]/div[1]/div/div[1]/div[1]/div/div/div/div[2]/div').text\n",
    "    address = driver.find_element_by_xpath('//*[@id=\"about\"]/div[1]/div/div[1]/div[1]/div/div/div/div[2]/div').text\n",
    "\n",
    "    for ind, ch in enumerate(dist_to_centre):\n",
    "        if ch == '(':\n",
    "            sign_pos = ind\n",
    "        if ch == 'д':\n",
    "            sign_pos2 = ind\n",
    "    dist_to_centre = dist_to_centre[sign_pos+1 : sign_pos2]\n",
    "    lst.append(dist_to_centre)\n",
    "    \n",
    "    for ind, ch in enumerate(address):\n",
    "        if ch == 'у' and address[ind+2] == '.':\n",
    "            sign_pos = ind\n",
    "        if ch == '(':\n",
    "            sign_pos2 = ind\n",
    "    address = address[sign_pos : sign_pos2-1]\n",
    "    lst.append(address)\n",
    "    \n",
    "    map_btn = driver.find_element_by_class_name('Rwl82')\n",
    "    map_btn.click()\n",
    "    time.sleep(0.5)\n",
    "\n",
    "    school_btn = driver.find_element_by_xpath('//*[@id=\"gallery\"]/div/div[2]/div/div/div[1]/div[2]/div[1]/div/button[1]')\n",
    "    school_btn.click()\n",
    "    time_to_school = driver.find_element_by_xpath('//*[@id=\"gallery\"]/div/div[2]/div/div/div[1]/div[2]/div[2]/div[1]/div[1]/div').text\n",
    "    lst.append(time_to_school)\n",
    "    \n",
    "\n",
    "    kids_school_btn = driver.find_element_by_xpath('//*[@id=\"gallery\"]/div/div[2]/div/div/div[1]/div[2]/div[1]/div/button[2]')\n",
    "    kids_school_btn.click()\n",
    "    time_to_ks = driver.find_element_by_class_name('VArxJ').text\n",
    "    lst.append(time_to_ks)\n",
    "    \n",
    "    #hospital_btn = driver.find_element_by_xpath('//*[@id=\"gallery\"]/div/div[2]/div/div/div[1]/div[2]/div[1]/div/button[8]')\n",
    "    #hospital_btn.click()\n",
    "    #time_to_hospital = driver.find_element_by_class_name('VArxJ').text\n",
    "    #lst.append(time_to_hospital)\n",
    "    \n",
    "    \n",
    "    driver.close()\n",
    "    return lst"
   ]
  },
  {
   "cell_type": "code",
   "execution_count": 5,
   "id": "4c2cbd1d",
   "metadata": {},
   "outputs": [
    {
     "name": "stdout",
     "output_type": "stream",
     "text": [
      "['19 700 000 ₸', '1-комн.', '41.3 м²', 'косметический ремонт', '2017', '11 из 17', 'кирпичные', '3 м', 'раздельный', '5.4 км ', 'ул. Сыганак, д. 6', 'Школа-гимназия №78\\nШколы', 'Таң нұры, детский сад\\nДетские сады']\n"
     ]
    }
   ],
   "source": [
    "print(ad_func('https://astana.etagi.com/realty/8989393/'))\n",
    "#//*[@id=\"gallery\"]/div/div[2]/div/div/div[1]/div[2]/div[2]/div[1]/div[2]/span\n",
    "#//*[@id=\"gallery\"]/div/div[2]/div/div/div[1]/div[2]/div[2]/div[1]/div[3]/span"
   ]
  },
  {
   "cell_type": "code",
   "execution_count": null,
   "id": "c27d8bb3",
   "metadata": {},
   "outputs": [],
   "source": [
    "//*[@id=\"characteristics\"]/div/div/div[9]/ul/li[2]/span[2]\n",
    "//*[@id=\"characteristics\"]/div/div/div[10]/ul/li[2]/span[2]\n",
    "//*[@id=\"gallery\"]/div/div[2]/div/div/div[1]/div[2]/div[2]/div[1]/div[3]/span/text()[1]\n",
    "\n",
    "\n"
   ]
  },
  {
   "cell_type": "code",
   "execution_count": 130,
   "id": "33c5295a",
   "metadata": {},
   "outputs": [
    {
     "name": "stderr",
     "output_type": "stream",
     "text": [
      "Exception ignored in: <function Service.__del__ at 0x0000026B9EE73DC0>\n",
      "Traceback (most recent call last):\n",
      "  File \"C:\\Users\\rusya\\anaconda3\\lib\\site-packages\\selenium\\webdriver\\common\\service.py\", line 176, in __del__\n",
      "    self.stop()\n",
      "  File \"C:\\Users\\rusya\\anaconda3\\lib\\site-packages\\selenium\\webdriver\\common\\service.py\", line 151, in stop\n",
      "    self.send_remote_shutdown_command()\n",
      "  File \"C:\\Users\\rusya\\anaconda3\\lib\\site-packages\\selenium\\webdriver\\common\\service.py\", line 132, in send_remote_shutdown_command\n",
      "    if not self.is_connectable():\n",
      "  File \"C:\\Users\\rusya\\anaconda3\\lib\\site-packages\\selenium\\webdriver\\common\\service.py\", line 115, in is_connectable\n",
      "    return utils.is_connectable(self.port)\n",
      "  File \"C:\\Users\\rusya\\anaconda3\\lib\\site-packages\\selenium\\webdriver\\common\\utils.py\", line 106, in is_connectable\n",
      "    socket_ = socket.create_connection((host, port), 1)\n",
      "  File \"C:\\Users\\rusya\\anaconda3\\lib\\socket.py\", line 832, in create_connection\n",
      "    sock.connect(sa)\n",
      "KeyboardInterrupt: \n"
     ]
    },
    {
     "ename": "KeyboardInterrupt",
     "evalue": "",
     "output_type": "error",
     "traceback": [
      "\u001b[1;31m---------------------------------------------------------------------------\u001b[0m",
      "\u001b[1;31mKeyboardInterrupt\u001b[0m                         Traceback (most recent call last)",
      "\u001b[1;32m~\\AppData\\Local\\Temp\\ipykernel_11408\\375954169.py\u001b[0m in \u001b[0;36m<module>\u001b[1;34m\u001b[0m\n\u001b[0;32m     23\u001b[0m             \u001b[0mad\u001b[0m \u001b[1;33m=\u001b[0m \u001b[0mdriver\u001b[0m\u001b[1;33m.\u001b[0m\u001b[0mfind_element_by_xpath\u001b[0m\u001b[1;33m(\u001b[0m\u001b[1;34m'//*[@id=\"object-list\"]/div/div/div[{}]/a'\u001b[0m\u001b[1;33m.\u001b[0m\u001b[0mformat\u001b[0m\u001b[1;33m(\u001b[0m\u001b[0mx\u001b[0m\u001b[1;33m+\u001b[0m\u001b[1;36m1\u001b[0m\u001b[1;33m)\u001b[0m\u001b[1;33m)\u001b[0m\u001b[1;33m.\u001b[0m\u001b[0mget_attribute\u001b[0m\u001b[1;33m(\u001b[0m\u001b[1;34m'href'\u001b[0m\u001b[1;33m)\u001b[0m\u001b[1;33m\u001b[0m\u001b[1;33m\u001b[0m\u001b[0m\n\u001b[0;32m     24\u001b[0m             \u001b[0mdriver\u001b[0m\u001b[1;33m.\u001b[0m\u001b[0mexecute_script\u001b[0m\u001b[1;33m(\u001b[0m\u001b[1;34m\"window.scrollBy(0,250)\"\u001b[0m\u001b[1;33m,\u001b[0m\u001b[1;34m\"\"\u001b[0m\u001b[1;33m)\u001b[0m\u001b[1;33m\u001b[0m\u001b[1;33m\u001b[0m\u001b[0m\n\u001b[1;32m---> 25\u001b[1;33m             \u001b[0mlst\u001b[0m\u001b[1;33m.\u001b[0m\u001b[0mappend\u001b[0m\u001b[1;33m(\u001b[0m\u001b[0mad_func\u001b[0m\u001b[1;33m(\u001b[0m\u001b[0mad\u001b[0m\u001b[1;33m)\u001b[0m\u001b[1;33m)\u001b[0m\u001b[1;33m\u001b[0m\u001b[1;33m\u001b[0m\u001b[0m\n\u001b[0m\u001b[0;32m     26\u001b[0m         \u001b[1;32mexcept\u001b[0m \u001b[0mException\u001b[0m \u001b[1;32mas\u001b[0m \u001b[0me\u001b[0m\u001b[1;33m:\u001b[0m\u001b[1;33m\u001b[0m\u001b[1;33m\u001b[0m\u001b[0m\n\u001b[0;32m     27\u001b[0m             \u001b[1;32mcontinue\u001b[0m\u001b[1;33m\u001b[0m\u001b[1;33m\u001b[0m\u001b[0m\n",
      "\u001b[1;32m~\\AppData\\Local\\Temp\\ipykernel_11408\\3097388963.py\u001b[0m in \u001b[0;36mad_func\u001b[1;34m(url)\u001b[0m\n\u001b[0;32m      1\u001b[0m \u001b[1;32mdef\u001b[0m \u001b[0mad_func\u001b[0m\u001b[1;33m(\u001b[0m\u001b[0murl\u001b[0m\u001b[1;33m)\u001b[0m\u001b[1;33m:\u001b[0m\u001b[1;33m\u001b[0m\u001b[1;33m\u001b[0m\u001b[0m\n\u001b[0;32m      2\u001b[0m     \u001b[0mdriver\u001b[0m \u001b[1;33m=\u001b[0m \u001b[0mwebdriver\u001b[0m\u001b[1;33m.\u001b[0m\u001b[0mChrome\u001b[0m\u001b[1;33m(\u001b[0m\u001b[1;33m)\u001b[0m\u001b[1;33m\u001b[0m\u001b[1;33m\u001b[0m\u001b[0m\n\u001b[1;32m----> 3\u001b[1;33m     \u001b[0mdriver\u001b[0m\u001b[1;33m.\u001b[0m\u001b[0mget\u001b[0m\u001b[1;33m(\u001b[0m\u001b[0murl\u001b[0m\u001b[1;33m)\u001b[0m\u001b[1;33m\u001b[0m\u001b[1;33m\u001b[0m\u001b[0m\n\u001b[0m\u001b[0;32m      4\u001b[0m \u001b[1;33m\u001b[0m\u001b[0m\n\u001b[0;32m      5\u001b[0m     \u001b[0mbtn\u001b[0m \u001b[1;33m=\u001b[0m \u001b[0mdriver\u001b[0m\u001b[1;33m.\u001b[0m\u001b[0mfind_element_by_xpath\u001b[0m\u001b[1;33m(\u001b[0m\u001b[1;34m'//*[@id=\"characteristics\"]/div/div/button'\u001b[0m\u001b[1;33m)\u001b[0m\u001b[1;33m\u001b[0m\u001b[1;33m\u001b[0m\u001b[0m\n",
      "\u001b[1;32m~\\anaconda3\\lib\\site-packages\\selenium\\webdriver\\remote\\webdriver.py\u001b[0m in \u001b[0;36mget\u001b[1;34m(self, url)\u001b[0m\n\u001b[0;32m    331\u001b[0m         \u001b[0mLoads\u001b[0m \u001b[0ma\u001b[0m \u001b[0mweb\u001b[0m \u001b[0mpage\u001b[0m \u001b[1;32min\u001b[0m \u001b[0mthe\u001b[0m \u001b[0mcurrent\u001b[0m \u001b[0mbrowser\u001b[0m \u001b[0msession\u001b[0m\u001b[1;33m.\u001b[0m\u001b[1;33m\u001b[0m\u001b[1;33m\u001b[0m\u001b[0m\n\u001b[0;32m    332\u001b[0m         \"\"\"\n\u001b[1;32m--> 333\u001b[1;33m         \u001b[0mself\u001b[0m\u001b[1;33m.\u001b[0m\u001b[0mexecute\u001b[0m\u001b[1;33m(\u001b[0m\u001b[0mCommand\u001b[0m\u001b[1;33m.\u001b[0m\u001b[0mGET\u001b[0m\u001b[1;33m,\u001b[0m \u001b[1;33m{\u001b[0m\u001b[1;34m'url'\u001b[0m\u001b[1;33m:\u001b[0m \u001b[0murl\u001b[0m\u001b[1;33m}\u001b[0m\u001b[1;33m)\u001b[0m\u001b[1;33m\u001b[0m\u001b[1;33m\u001b[0m\u001b[0m\n\u001b[0m\u001b[0;32m    334\u001b[0m \u001b[1;33m\u001b[0m\u001b[0m\n\u001b[0;32m    335\u001b[0m     \u001b[1;33m@\u001b[0m\u001b[0mproperty\u001b[0m\u001b[1;33m\u001b[0m\u001b[1;33m\u001b[0m\u001b[0m\n",
      "\u001b[1;32m~\\anaconda3\\lib\\site-packages\\selenium\\webdriver\\remote\\webdriver.py\u001b[0m in \u001b[0;36mexecute\u001b[1;34m(self, driver_command, params)\u001b[0m\n\u001b[0;32m    317\u001b[0m \u001b[1;33m\u001b[0m\u001b[0m\n\u001b[0;32m    318\u001b[0m         \u001b[0mparams\u001b[0m \u001b[1;33m=\u001b[0m \u001b[0mself\u001b[0m\u001b[1;33m.\u001b[0m\u001b[0m_wrap_value\u001b[0m\u001b[1;33m(\u001b[0m\u001b[0mparams\u001b[0m\u001b[1;33m)\u001b[0m\u001b[1;33m\u001b[0m\u001b[1;33m\u001b[0m\u001b[0m\n\u001b[1;32m--> 319\u001b[1;33m         \u001b[0mresponse\u001b[0m \u001b[1;33m=\u001b[0m \u001b[0mself\u001b[0m\u001b[1;33m.\u001b[0m\u001b[0mcommand_executor\u001b[0m\u001b[1;33m.\u001b[0m\u001b[0mexecute\u001b[0m\u001b[1;33m(\u001b[0m\u001b[0mdriver_command\u001b[0m\u001b[1;33m,\u001b[0m \u001b[0mparams\u001b[0m\u001b[1;33m)\u001b[0m\u001b[1;33m\u001b[0m\u001b[1;33m\u001b[0m\u001b[0m\n\u001b[0m\u001b[0;32m    320\u001b[0m         \u001b[1;32mif\u001b[0m \u001b[0mresponse\u001b[0m\u001b[1;33m:\u001b[0m\u001b[1;33m\u001b[0m\u001b[1;33m\u001b[0m\u001b[0m\n\u001b[0;32m    321\u001b[0m             \u001b[0mself\u001b[0m\u001b[1;33m.\u001b[0m\u001b[0merror_handler\u001b[0m\u001b[1;33m.\u001b[0m\u001b[0mcheck_response\u001b[0m\u001b[1;33m(\u001b[0m\u001b[0mresponse\u001b[0m\u001b[1;33m)\u001b[0m\u001b[1;33m\u001b[0m\u001b[1;33m\u001b[0m\u001b[0m\n",
      "\u001b[1;32m~\\anaconda3\\lib\\site-packages\\selenium\\webdriver\\remote\\remote_connection.py\u001b[0m in \u001b[0;36mexecute\u001b[1;34m(self, command, params)\u001b[0m\n\u001b[0;32m    372\u001b[0m         \u001b[0mdata\u001b[0m \u001b[1;33m=\u001b[0m \u001b[0mutils\u001b[0m\u001b[1;33m.\u001b[0m\u001b[0mdump_json\u001b[0m\u001b[1;33m(\u001b[0m\u001b[0mparams\u001b[0m\u001b[1;33m)\u001b[0m\u001b[1;33m\u001b[0m\u001b[1;33m\u001b[0m\u001b[0m\n\u001b[0;32m    373\u001b[0m         \u001b[0murl\u001b[0m \u001b[1;33m=\u001b[0m \u001b[1;34m'%s%s'\u001b[0m \u001b[1;33m%\u001b[0m \u001b[1;33m(\u001b[0m\u001b[0mself\u001b[0m\u001b[1;33m.\u001b[0m\u001b[0m_url\u001b[0m\u001b[1;33m,\u001b[0m \u001b[0mpath\u001b[0m\u001b[1;33m)\u001b[0m\u001b[1;33m\u001b[0m\u001b[1;33m\u001b[0m\u001b[0m\n\u001b[1;32m--> 374\u001b[1;33m         \u001b[1;32mreturn\u001b[0m \u001b[0mself\u001b[0m\u001b[1;33m.\u001b[0m\u001b[0m_request\u001b[0m\u001b[1;33m(\u001b[0m\u001b[0mcommand_info\u001b[0m\u001b[1;33m[\u001b[0m\u001b[1;36m0\u001b[0m\u001b[1;33m]\u001b[0m\u001b[1;33m,\u001b[0m \u001b[0murl\u001b[0m\u001b[1;33m,\u001b[0m \u001b[0mbody\u001b[0m\u001b[1;33m=\u001b[0m\u001b[0mdata\u001b[0m\u001b[1;33m)\u001b[0m\u001b[1;33m\u001b[0m\u001b[1;33m\u001b[0m\u001b[0m\n\u001b[0m\u001b[0;32m    375\u001b[0m \u001b[1;33m\u001b[0m\u001b[0m\n\u001b[0;32m    376\u001b[0m     \u001b[1;32mdef\u001b[0m \u001b[0m_request\u001b[0m\u001b[1;33m(\u001b[0m\u001b[0mself\u001b[0m\u001b[1;33m,\u001b[0m \u001b[0mmethod\u001b[0m\u001b[1;33m,\u001b[0m \u001b[0murl\u001b[0m\u001b[1;33m,\u001b[0m \u001b[0mbody\u001b[0m\u001b[1;33m=\u001b[0m\u001b[1;32mNone\u001b[0m\u001b[1;33m)\u001b[0m\u001b[1;33m:\u001b[0m\u001b[1;33m\u001b[0m\u001b[1;33m\u001b[0m\u001b[0m\n",
      "\u001b[1;32m~\\anaconda3\\lib\\site-packages\\selenium\\webdriver\\remote\\remote_connection.py\u001b[0m in \u001b[0;36m_request\u001b[1;34m(self, method, url, body)\u001b[0m\n\u001b[0;32m    395\u001b[0m \u001b[1;33m\u001b[0m\u001b[0m\n\u001b[0;32m    396\u001b[0m         \u001b[1;32mif\u001b[0m \u001b[0mself\u001b[0m\u001b[1;33m.\u001b[0m\u001b[0mkeep_alive\u001b[0m\u001b[1;33m:\u001b[0m\u001b[1;33m\u001b[0m\u001b[1;33m\u001b[0m\u001b[0m\n\u001b[1;32m--> 397\u001b[1;33m             \u001b[0mresp\u001b[0m \u001b[1;33m=\u001b[0m \u001b[0mself\u001b[0m\u001b[1;33m.\u001b[0m\u001b[0m_conn\u001b[0m\u001b[1;33m.\u001b[0m\u001b[0mrequest\u001b[0m\u001b[1;33m(\u001b[0m\u001b[0mmethod\u001b[0m\u001b[1;33m,\u001b[0m \u001b[0murl\u001b[0m\u001b[1;33m,\u001b[0m \u001b[0mbody\u001b[0m\u001b[1;33m=\u001b[0m\u001b[0mbody\u001b[0m\u001b[1;33m,\u001b[0m \u001b[0mheaders\u001b[0m\u001b[1;33m=\u001b[0m\u001b[0mheaders\u001b[0m\u001b[1;33m)\u001b[0m\u001b[1;33m\u001b[0m\u001b[1;33m\u001b[0m\u001b[0m\n\u001b[0m\u001b[0;32m    398\u001b[0m \u001b[1;33m\u001b[0m\u001b[0m\n\u001b[0;32m    399\u001b[0m             \u001b[0mstatuscode\u001b[0m \u001b[1;33m=\u001b[0m \u001b[0mresp\u001b[0m\u001b[1;33m.\u001b[0m\u001b[0mstatus\u001b[0m\u001b[1;33m\u001b[0m\u001b[1;33m\u001b[0m\u001b[0m\n",
      "\u001b[1;32m~\\anaconda3\\lib\\site-packages\\urllib3\\request.py\u001b[0m in \u001b[0;36mrequest\u001b[1;34m(self, method, url, fields, headers, **urlopen_kw)\u001b[0m\n\u001b[0;32m     76\u001b[0m             )\n\u001b[0;32m     77\u001b[0m         \u001b[1;32melse\u001b[0m\u001b[1;33m:\u001b[0m\u001b[1;33m\u001b[0m\u001b[1;33m\u001b[0m\u001b[0m\n\u001b[1;32m---> 78\u001b[1;33m             return self.request_encode_body(\n\u001b[0m\u001b[0;32m     79\u001b[0m                 \u001b[0mmethod\u001b[0m\u001b[1;33m,\u001b[0m \u001b[0murl\u001b[0m\u001b[1;33m,\u001b[0m \u001b[0mfields\u001b[0m\u001b[1;33m=\u001b[0m\u001b[0mfields\u001b[0m\u001b[1;33m,\u001b[0m \u001b[0mheaders\u001b[0m\u001b[1;33m=\u001b[0m\u001b[0mheaders\u001b[0m\u001b[1;33m,\u001b[0m \u001b[1;33m**\u001b[0m\u001b[0murlopen_kw\u001b[0m\u001b[1;33m\u001b[0m\u001b[1;33m\u001b[0m\u001b[0m\n\u001b[0;32m     80\u001b[0m             )\n",
      "\u001b[1;32m~\\anaconda3\\lib\\site-packages\\urllib3\\request.py\u001b[0m in \u001b[0;36mrequest_encode_body\u001b[1;34m(self, method, url, fields, headers, encode_multipart, multipart_boundary, **urlopen_kw)\u001b[0m\n\u001b[0;32m    168\u001b[0m         \u001b[0mextra_kw\u001b[0m\u001b[1;33m.\u001b[0m\u001b[0mupdate\u001b[0m\u001b[1;33m(\u001b[0m\u001b[0murlopen_kw\u001b[0m\u001b[1;33m)\u001b[0m\u001b[1;33m\u001b[0m\u001b[1;33m\u001b[0m\u001b[0m\n\u001b[0;32m    169\u001b[0m \u001b[1;33m\u001b[0m\u001b[0m\n\u001b[1;32m--> 170\u001b[1;33m         \u001b[1;32mreturn\u001b[0m \u001b[0mself\u001b[0m\u001b[1;33m.\u001b[0m\u001b[0murlopen\u001b[0m\u001b[1;33m(\u001b[0m\u001b[0mmethod\u001b[0m\u001b[1;33m,\u001b[0m \u001b[0murl\u001b[0m\u001b[1;33m,\u001b[0m \u001b[1;33m**\u001b[0m\u001b[0mextra_kw\u001b[0m\u001b[1;33m)\u001b[0m\u001b[1;33m\u001b[0m\u001b[1;33m\u001b[0m\u001b[0m\n\u001b[0m",
      "\u001b[1;32m~\\anaconda3\\lib\\site-packages\\urllib3\\poolmanager.py\u001b[0m in \u001b[0;36murlopen\u001b[1;34m(self, method, url, redirect, **kw)\u001b[0m\n\u001b[0;32m    374\u001b[0m             \u001b[0mresponse\u001b[0m \u001b[1;33m=\u001b[0m \u001b[0mconn\u001b[0m\u001b[1;33m.\u001b[0m\u001b[0murlopen\u001b[0m\u001b[1;33m(\u001b[0m\u001b[0mmethod\u001b[0m\u001b[1;33m,\u001b[0m \u001b[0murl\u001b[0m\u001b[1;33m,\u001b[0m \u001b[1;33m**\u001b[0m\u001b[0mkw\u001b[0m\u001b[1;33m)\u001b[0m\u001b[1;33m\u001b[0m\u001b[1;33m\u001b[0m\u001b[0m\n\u001b[0;32m    375\u001b[0m         \u001b[1;32melse\u001b[0m\u001b[1;33m:\u001b[0m\u001b[1;33m\u001b[0m\u001b[1;33m\u001b[0m\u001b[0m\n\u001b[1;32m--> 376\u001b[1;33m             \u001b[0mresponse\u001b[0m \u001b[1;33m=\u001b[0m \u001b[0mconn\u001b[0m\u001b[1;33m.\u001b[0m\u001b[0murlopen\u001b[0m\u001b[1;33m(\u001b[0m\u001b[0mmethod\u001b[0m\u001b[1;33m,\u001b[0m \u001b[0mu\u001b[0m\u001b[1;33m.\u001b[0m\u001b[0mrequest_uri\u001b[0m\u001b[1;33m,\u001b[0m \u001b[1;33m**\u001b[0m\u001b[0mkw\u001b[0m\u001b[1;33m)\u001b[0m\u001b[1;33m\u001b[0m\u001b[1;33m\u001b[0m\u001b[0m\n\u001b[0m\u001b[0;32m    377\u001b[0m \u001b[1;33m\u001b[0m\u001b[0m\n\u001b[0;32m    378\u001b[0m         \u001b[0mredirect_location\u001b[0m \u001b[1;33m=\u001b[0m \u001b[0mredirect\u001b[0m \u001b[1;32mand\u001b[0m \u001b[0mresponse\u001b[0m\u001b[1;33m.\u001b[0m\u001b[0mget_redirect_location\u001b[0m\u001b[1;33m(\u001b[0m\u001b[1;33m)\u001b[0m\u001b[1;33m\u001b[0m\u001b[1;33m\u001b[0m\u001b[0m\n",
      "\u001b[1;32m~\\anaconda3\\lib\\site-packages\\urllib3\\connectionpool.py\u001b[0m in \u001b[0;36murlopen\u001b[1;34m(self, method, url, body, headers, retries, redirect, assert_same_host, timeout, pool_timeout, release_conn, chunked, body_pos, **response_kw)\u001b[0m\n\u001b[0;32m    701\u001b[0m \u001b[1;33m\u001b[0m\u001b[0m\n\u001b[0;32m    702\u001b[0m             \u001b[1;31m# Make the request on the httplib connection object.\u001b[0m\u001b[1;33m\u001b[0m\u001b[1;33m\u001b[0m\u001b[0m\n\u001b[1;32m--> 703\u001b[1;33m             httplib_response = self._make_request(\n\u001b[0m\u001b[0;32m    704\u001b[0m                 \u001b[0mconn\u001b[0m\u001b[1;33m,\u001b[0m\u001b[1;33m\u001b[0m\u001b[1;33m\u001b[0m\u001b[0m\n\u001b[0;32m    705\u001b[0m                 \u001b[0mmethod\u001b[0m\u001b[1;33m,\u001b[0m\u001b[1;33m\u001b[0m\u001b[1;33m\u001b[0m\u001b[0m\n",
      "\u001b[1;32m~\\anaconda3\\lib\\site-packages\\urllib3\\connectionpool.py\u001b[0m in \u001b[0;36m_make_request\u001b[1;34m(self, conn, method, url, timeout, chunked, **httplib_request_kw)\u001b[0m\n\u001b[0;32m    447\u001b[0m                     \u001b[1;31m# Python 3 (including for exceptions like SystemExit).\u001b[0m\u001b[1;33m\u001b[0m\u001b[1;33m\u001b[0m\u001b[0m\n\u001b[0;32m    448\u001b[0m                     \u001b[1;31m# Otherwise it looks like a bug in the code.\u001b[0m\u001b[1;33m\u001b[0m\u001b[1;33m\u001b[0m\u001b[0m\n\u001b[1;32m--> 449\u001b[1;33m                     \u001b[0msix\u001b[0m\u001b[1;33m.\u001b[0m\u001b[0mraise_from\u001b[0m\u001b[1;33m(\u001b[0m\u001b[0me\u001b[0m\u001b[1;33m,\u001b[0m \u001b[1;32mNone\u001b[0m\u001b[1;33m)\u001b[0m\u001b[1;33m\u001b[0m\u001b[1;33m\u001b[0m\u001b[0m\n\u001b[0m\u001b[0;32m    450\u001b[0m         \u001b[1;32mexcept\u001b[0m \u001b[1;33m(\u001b[0m\u001b[0mSocketTimeout\u001b[0m\u001b[1;33m,\u001b[0m \u001b[0mBaseSSLError\u001b[0m\u001b[1;33m,\u001b[0m \u001b[0mSocketError\u001b[0m\u001b[1;33m)\u001b[0m \u001b[1;32mas\u001b[0m \u001b[0me\u001b[0m\u001b[1;33m:\u001b[0m\u001b[1;33m\u001b[0m\u001b[1;33m\u001b[0m\u001b[0m\n\u001b[0;32m    451\u001b[0m             \u001b[0mself\u001b[0m\u001b[1;33m.\u001b[0m\u001b[0m_raise_timeout\u001b[0m\u001b[1;33m(\u001b[0m\u001b[0merr\u001b[0m\u001b[1;33m=\u001b[0m\u001b[0me\u001b[0m\u001b[1;33m,\u001b[0m \u001b[0murl\u001b[0m\u001b[1;33m=\u001b[0m\u001b[0murl\u001b[0m\u001b[1;33m,\u001b[0m \u001b[0mtimeout_value\u001b[0m\u001b[1;33m=\u001b[0m\u001b[0mread_timeout\u001b[0m\u001b[1;33m)\u001b[0m\u001b[1;33m\u001b[0m\u001b[1;33m\u001b[0m\u001b[0m\n",
      "\u001b[1;32m~\\anaconda3\\lib\\site-packages\\urllib3\\packages\\six.py\u001b[0m in \u001b[0;36mraise_from\u001b[1;34m(value, from_value)\u001b[0m\n",
      "\u001b[1;32m~\\anaconda3\\lib\\site-packages\\urllib3\\connectionpool.py\u001b[0m in \u001b[0;36m_make_request\u001b[1;34m(self, conn, method, url, timeout, chunked, **httplib_request_kw)\u001b[0m\n\u001b[0;32m    442\u001b[0m                 \u001b[1;31m# Python 3\u001b[0m\u001b[1;33m\u001b[0m\u001b[1;33m\u001b[0m\u001b[0m\n\u001b[0;32m    443\u001b[0m                 \u001b[1;32mtry\u001b[0m\u001b[1;33m:\u001b[0m\u001b[1;33m\u001b[0m\u001b[1;33m\u001b[0m\u001b[0m\n\u001b[1;32m--> 444\u001b[1;33m                     \u001b[0mhttplib_response\u001b[0m \u001b[1;33m=\u001b[0m \u001b[0mconn\u001b[0m\u001b[1;33m.\u001b[0m\u001b[0mgetresponse\u001b[0m\u001b[1;33m(\u001b[0m\u001b[1;33m)\u001b[0m\u001b[1;33m\u001b[0m\u001b[1;33m\u001b[0m\u001b[0m\n\u001b[0m\u001b[0;32m    445\u001b[0m                 \u001b[1;32mexcept\u001b[0m \u001b[0mBaseException\u001b[0m \u001b[1;32mas\u001b[0m \u001b[0me\u001b[0m\u001b[1;33m:\u001b[0m\u001b[1;33m\u001b[0m\u001b[1;33m\u001b[0m\u001b[0m\n\u001b[0;32m    446\u001b[0m                     \u001b[1;31m# Remove the TypeError from the exception chain in\u001b[0m\u001b[1;33m\u001b[0m\u001b[1;33m\u001b[0m\u001b[0m\n",
      "\u001b[1;32m~\\anaconda3\\lib\\http\\client.py\u001b[0m in \u001b[0;36mgetresponse\u001b[1;34m(self)\u001b[0m\n\u001b[0;32m   1375\u001b[0m         \u001b[1;32mtry\u001b[0m\u001b[1;33m:\u001b[0m\u001b[1;33m\u001b[0m\u001b[1;33m\u001b[0m\u001b[0m\n\u001b[0;32m   1376\u001b[0m             \u001b[1;32mtry\u001b[0m\u001b[1;33m:\u001b[0m\u001b[1;33m\u001b[0m\u001b[1;33m\u001b[0m\u001b[0m\n\u001b[1;32m-> 1377\u001b[1;33m                 \u001b[0mresponse\u001b[0m\u001b[1;33m.\u001b[0m\u001b[0mbegin\u001b[0m\u001b[1;33m(\u001b[0m\u001b[1;33m)\u001b[0m\u001b[1;33m\u001b[0m\u001b[1;33m\u001b[0m\u001b[0m\n\u001b[0m\u001b[0;32m   1378\u001b[0m             \u001b[1;32mexcept\u001b[0m \u001b[0mConnectionError\u001b[0m\u001b[1;33m:\u001b[0m\u001b[1;33m\u001b[0m\u001b[1;33m\u001b[0m\u001b[0m\n\u001b[0;32m   1379\u001b[0m                 \u001b[0mself\u001b[0m\u001b[1;33m.\u001b[0m\u001b[0mclose\u001b[0m\u001b[1;33m(\u001b[0m\u001b[1;33m)\u001b[0m\u001b[1;33m\u001b[0m\u001b[1;33m\u001b[0m\u001b[0m\n",
      "\u001b[1;32m~\\anaconda3\\lib\\http\\client.py\u001b[0m in \u001b[0;36mbegin\u001b[1;34m(self)\u001b[0m\n\u001b[0;32m    318\u001b[0m         \u001b[1;31m# read until we get a non-100 response\u001b[0m\u001b[1;33m\u001b[0m\u001b[1;33m\u001b[0m\u001b[0m\n\u001b[0;32m    319\u001b[0m         \u001b[1;32mwhile\u001b[0m \u001b[1;32mTrue\u001b[0m\u001b[1;33m:\u001b[0m\u001b[1;33m\u001b[0m\u001b[1;33m\u001b[0m\u001b[0m\n\u001b[1;32m--> 320\u001b[1;33m             \u001b[0mversion\u001b[0m\u001b[1;33m,\u001b[0m \u001b[0mstatus\u001b[0m\u001b[1;33m,\u001b[0m \u001b[0mreason\u001b[0m \u001b[1;33m=\u001b[0m \u001b[0mself\u001b[0m\u001b[1;33m.\u001b[0m\u001b[0m_read_status\u001b[0m\u001b[1;33m(\u001b[0m\u001b[1;33m)\u001b[0m\u001b[1;33m\u001b[0m\u001b[1;33m\u001b[0m\u001b[0m\n\u001b[0m\u001b[0;32m    321\u001b[0m             \u001b[1;32mif\u001b[0m \u001b[0mstatus\u001b[0m \u001b[1;33m!=\u001b[0m \u001b[0mCONTINUE\u001b[0m\u001b[1;33m:\u001b[0m\u001b[1;33m\u001b[0m\u001b[1;33m\u001b[0m\u001b[0m\n\u001b[0;32m    322\u001b[0m                 \u001b[1;32mbreak\u001b[0m\u001b[1;33m\u001b[0m\u001b[1;33m\u001b[0m\u001b[0m\n",
      "\u001b[1;32m~\\anaconda3\\lib\\http\\client.py\u001b[0m in \u001b[0;36m_read_status\u001b[1;34m(self)\u001b[0m\n\u001b[0;32m    279\u001b[0m \u001b[1;33m\u001b[0m\u001b[0m\n\u001b[0;32m    280\u001b[0m     \u001b[1;32mdef\u001b[0m \u001b[0m_read_status\u001b[0m\u001b[1;33m(\u001b[0m\u001b[0mself\u001b[0m\u001b[1;33m)\u001b[0m\u001b[1;33m:\u001b[0m\u001b[1;33m\u001b[0m\u001b[1;33m\u001b[0m\u001b[0m\n\u001b[1;32m--> 281\u001b[1;33m         \u001b[0mline\u001b[0m \u001b[1;33m=\u001b[0m \u001b[0mstr\u001b[0m\u001b[1;33m(\u001b[0m\u001b[0mself\u001b[0m\u001b[1;33m.\u001b[0m\u001b[0mfp\u001b[0m\u001b[1;33m.\u001b[0m\u001b[0mreadline\u001b[0m\u001b[1;33m(\u001b[0m\u001b[0m_MAXLINE\u001b[0m \u001b[1;33m+\u001b[0m \u001b[1;36m1\u001b[0m\u001b[1;33m)\u001b[0m\u001b[1;33m,\u001b[0m \u001b[1;34m\"iso-8859-1\"\u001b[0m\u001b[1;33m)\u001b[0m\u001b[1;33m\u001b[0m\u001b[1;33m\u001b[0m\u001b[0m\n\u001b[0m\u001b[0;32m    282\u001b[0m         \u001b[1;32mif\u001b[0m \u001b[0mlen\u001b[0m\u001b[1;33m(\u001b[0m\u001b[0mline\u001b[0m\u001b[1;33m)\u001b[0m \u001b[1;33m>\u001b[0m \u001b[0m_MAXLINE\u001b[0m\u001b[1;33m:\u001b[0m\u001b[1;33m\u001b[0m\u001b[1;33m\u001b[0m\u001b[0m\n\u001b[0;32m    283\u001b[0m             \u001b[1;32mraise\u001b[0m \u001b[0mLineTooLong\u001b[0m\u001b[1;33m(\u001b[0m\u001b[1;34m\"status line\"\u001b[0m\u001b[1;33m)\u001b[0m\u001b[1;33m\u001b[0m\u001b[1;33m\u001b[0m\u001b[0m\n",
      "\u001b[1;32m~\\anaconda3\\lib\\socket.py\u001b[0m in \u001b[0;36mreadinto\u001b[1;34m(self, b)\u001b[0m\n\u001b[0;32m    702\u001b[0m         \u001b[1;32mwhile\u001b[0m \u001b[1;32mTrue\u001b[0m\u001b[1;33m:\u001b[0m\u001b[1;33m\u001b[0m\u001b[1;33m\u001b[0m\u001b[0m\n\u001b[0;32m    703\u001b[0m             \u001b[1;32mtry\u001b[0m\u001b[1;33m:\u001b[0m\u001b[1;33m\u001b[0m\u001b[1;33m\u001b[0m\u001b[0m\n\u001b[1;32m--> 704\u001b[1;33m                 \u001b[1;32mreturn\u001b[0m \u001b[0mself\u001b[0m\u001b[1;33m.\u001b[0m\u001b[0m_sock\u001b[0m\u001b[1;33m.\u001b[0m\u001b[0mrecv_into\u001b[0m\u001b[1;33m(\u001b[0m\u001b[0mb\u001b[0m\u001b[1;33m)\u001b[0m\u001b[1;33m\u001b[0m\u001b[1;33m\u001b[0m\u001b[0m\n\u001b[0m\u001b[0;32m    705\u001b[0m             \u001b[1;32mexcept\u001b[0m \u001b[0mtimeout\u001b[0m\u001b[1;33m:\u001b[0m\u001b[1;33m\u001b[0m\u001b[1;33m\u001b[0m\u001b[0m\n\u001b[0;32m    706\u001b[0m                 \u001b[0mself\u001b[0m\u001b[1;33m.\u001b[0m\u001b[0m_timeout_occurred\u001b[0m \u001b[1;33m=\u001b[0m \u001b[1;32mTrue\u001b[0m\u001b[1;33m\u001b[0m\u001b[1;33m\u001b[0m\u001b[0m\n",
      "\u001b[1;31mKeyboardInterrupt\u001b[0m: "
     ]
    }
   ],
   "source": [
    "url = 'https://astana.etagi.com/realty/'\n",
    "driver= webdriver.Chrome()\n",
    "driver.maximize_window()\n",
    "driver.get(url)\n",
    "    \n",
    "lst = []\n",
    "\n",
    "for i in range(1, 7):\n",
    "    if i == 6:\n",
    "        for i in range(4):\n",
    "            for x in range(30):\n",
    "                try:\n",
    "                    ad = driver.find_element_by_xpath('//*[@id=\"object-list\"]/div/div/div[{}]/a'.format(x+1)).get_attribute('href')\n",
    "                    driver.execute_script(\"window.scrollBy(0,250)\",\"\")\n",
    "                    lst.append(ad_func(ad))\n",
    "                except Exception as e:\n",
    "                    continue\n",
    "            pg_btn = driver.find_element_by_xpath('//*[@id=\"Paginator_UHMdaylxvP\"]/div/ul/li[7]/button')\n",
    "            pg_btn.click()\n",
    "        break\n",
    "    for x in range(30):\n",
    "        try:\n",
    "            ad = driver.find_element_by_xpath('//*[@id=\"object-list\"]/div/div/div[{}]/a'.format(x+1)).get_attribute('href')\n",
    "            driver.execute_script(\"window.scrollBy(0,250)\",\"\")\n",
    "            lst.append(ad_func(ad))\n",
    "        except Exception as e:\n",
    "            continue\n",
    "    pg_btn = driver.find_element_by_xpath('//*[@id=\"Paginator_UHMdaylxvP\"]/div/ul/li[{}]/button'.format(i+1))\n",
    "    pg_btn.click()\n",
    "    \n",
    "\n",
    "driver.close()\n",
    "print(lst)"
   ]
  },
  {
   "cell_type": "code",
   "execution_count": 131,
   "id": "63367f20",
   "metadata": {},
   "outputs": [
    {
     "name": "stdout",
     "output_type": "stream",
     "text": [
      "[['43 500 000 ₸', '3-комн.', '82 м²', 'современный ремонт', '2021', '2 из 9', 'блочные', '2.7 м', 'раздельный', '4 км ', 'ул. Толе би, д. 46', 'Astana Garden School, частная школа\\nШколы', 'Happy Home, образовательный детский сад\\nДетские сады'], ['12 550 000 ₸', '1-комн.', '42.6 м²', 'косметический ремонт', '2021', '9 из 9', 'кирпичные', '3 м', 'раздельный', '6.9 км ', 'ул. Акан сери, д. 18', 'Школа-гимназия №58\\nШколы', ''], ['19 000 000 ₸', '1-комн.', '36.7 м²', 'современный ремонт', '2019', '10 из 10', 'кирпичные', '3 м', 'раздельный', '4.9 км ', 'ул. Шаймердена Косшыгулулы, д. 8 к1', 'Школа-лицей №60\\nШколы', 'Айгулек, частный детский сад\\nДетские сады'], ['39 000 000 ₸', '4-комн.', '115 м²', 'косметический ремонт', '2007', '4 из 5', 'кирпичные', '2.7 м', 'раздельный', '1.6 км ', 'ул. Куйши Дина, д. 11 к1', 'Школа-лицей №50 им. Райымбека Батыра\\nШколы', 'Kidland, частный детский сад\\nДетские сады'], ['17 500 000 ₸', '2-комн.', '45.4 м²', 'косметический ремонт', '1977', '3 из 5', 'панельные', '2.5 м', 'раздельный', '2.8 км ', 'ул. Республики пр, д. 21', 'Школа-гимназия №31\\nШколы', 'Акбота, детский ясли-сад №5\\nДетские сады'], ['14 300 000 ₸', '1-комн.', '40.6 м²', 'косметический ремонт', '2010', '11 из 16', 'кирпичные', '2.7 м', 'раздельный', '6.6 км ', 'ул. Тлендиева пр, д. 16 к1', 'Школа-гимназия №58\\nШколы', 'АЛЛАДИН, детский садик\\nДетские сады'], ['43 000 000 ₸', '4-комн.', '103 м²', 'косметический ремонт', '2005', '7 из 16', 'монолитные', '2.7 м', 'раздельный', '2.3 км ', 'ул. Беимбет Майлин, д. 23', 'Школа-гимназия №51\\nШколы', 'Болашак, детский сад\\nДетские сады'], ['17 000 000 ₸', '1-комн.', '42.2 м²', 'улучшенная черновая отделка', '2022', '7 из 18', 'блочные', '3 м', 'раздельный', '3.8 км ', 'ул. Кенесары, д. 4А', 'Келешек, частная школа\\nШколы', ''], ['25 500 000 ₸', '2-комн.', '71.1 м²', 'косметический ремонт', '2010', '2 из 13', 'монолитно-каркасные', '2.8 м', 'да', '3.4 км ', 'ул. Сагадат Нурмагамбетов, д. 31', 'Школа-лицей №72\\nШколы', 'Бәйшешек, детский сад №42\\nДетские сады'], ['39 000 000 ₸', '3-комн.', '90 м²', 'современный ремонт', '2009', '13 из 16', 'монолитно-каркасные', '2.7 м', 'раздельный', '2.5 км ', 'ул. Иманова, д. 26', 'Школа-лицей №54\\nШколы', 'Simba\\nДетские сады'], ['105 000 000 ₸', '6-комн.', '247.9 м²', 'современный ремонт', '2010', '18 из 43', 'монолитно-каркасные', '3 м', 'да', '3 км ', 'ул. Желтоксан, д. 2 к3', 'Школа-лицей №1\\nШколы', 'Smart active kids, детский сад\\nДетские сады'], ['39 990 000 ₸', '3-комн.', '80 м²', 'косметический ремонт', '2009', '16 из 16', 'монолитные', '2.7 м', 'раздельный', '2.6 км ', 'ул. Бауржан Момышулы, д. 27', 'Школа-гимназия №51\\nШколы', 'Керемет, детский сад\\nДетские сады'], ['45 000 000 ₸', '3-комн.', '80 м²', 'ремонт по дизайн - проекту', '2009', '13 из 16', 'монолитные', '2.7 м', 'раздельный', '2.6 км ', 'ул. Бауржан Момышулы, д. 27', 'Школа-гимназия №51\\nШколы', 'Керемет, детский сад\\nДетские сады'], ['21 000 000 ₸', '1-комн.', '48.4 м²', 'современный ремонт', '2017', '2 из 18', 'сборно-монолитный железобетонный каркас', '2.7 м', 'раздельный', '4.4 км ', 'ул. Кубрина, д. 23 к1', 'Школа-лицей №60\\nШколы', 'Бал-Балақай, детский сад\\nДетские сады'], ['43 000 000 ₸', '3-комн.', '91 м²', 'современный ремонт', '2022', '8 из 9', 'блочные', '2.7 м', 'раздельный', '6.3 км ', 'ул. Нажимеденов, д. 29', 'BINOM SCHOOL, школа-лицей\\nШколы', 'Айгерим, детский сад\\nДетские сады'], ['33 800 000 ₸', '3-комн.', '85.7 м²', 'современный ремонт', '2013', '8 из 17', 'монолитно-каркасные', '2.8 м', 'раздельный', '4.2 км ', 'ул. Богенбай батыра пр, д. 56', 'Школа-гимназия №7 им. Гали Орманова\\nШколы', 'LeoBoom, детский сад\\nДетские сады'], ['22 300 000 ₸', '3-комн.', '60.9 м²', 'косметический ремонт', '1990', '4 из 5', 'кирпичные', '2.7 м', 'да', '5.7 км ', 'ул. Шалкоде, д. 2 к1', 'Средняя школа №13\\nШколы', 'Каусар, детский сад\\nДетские сады'], ['45 500 000 ₸', '3-комн.', '78 м²', 'косметический ремонт', '2017', '6 из 8', 'кирпичные', '2.7 м', 'раздельный', '4.7 км ', 'ул. 23 проезд, д. 6', 'SEED School, частная школа\\nШколы', 'Алтын Ұрпақ Астана, частный детский сад\\nДетские сады'], ['87 000 000 ₸', '5-комн.', '228 м²', 'современный ремонт', '2006', '10 из 11', 'кирпичные', '2.7 м', 'раздельный', '6.3 км ', 'ул. Илияс Есенберлин, д. 7 к1', 'Средняя школа №25\\nШколы', 'Аружан, \\ufeffдетский сад №4\\nДетские сады'], ['79 000 000 ₸', '6-комн.', '211 м²', 'ремонт по дизайн - проекту', '2006', '3 из 10', 'монолитно-каркасные', '3 м', 'да', '3.1 км ', 'ул. Отырар, д. 4 к3', 'Школа-гимназия №31\\nШколы', 'БАҚЫТ МЕКЕНІ, детский сад\\nДетские сады'], ['34 400 000 ₸', '4-комн.', '95.1 м²', 'косметический ремонт', '1991', '1 из 6', 'панельные', '2.8 м', 'раздельный', '1.7 км ', 'ул. Куйши Дина, д. 8', 'Школа-лицей №50 им. Райымбека Батыра\\nШколы', 'Kidland, частный детский сад\\nДетские сады'], ['27 500 000 ₸', '3-комн.', '71 м²', 'косметический ремонт', '1993', '1 из 5', 'кирпичные', '2.5 м', 'раздельный', '4 км ', 'ул. Торайгырова, д. 8 к1', 'Школа-гимназия №4 им. Жамбыла Жабаева\\nШколы', 'Ботақан, детский сад №80\\nДетские сады'], ['29 000 000 ₸', '3-комн.', '74 м²', 'косметический ремонт', '2009', '8 из 9', 'монолитно-кирпичный', '2.7 м', 'раздельный', '4.9 км ', 'ул. Габидена Мустафина, д. 21 к5', 'Школа-лицей №64\\nШколы', 'Теремок, частный детский сад-ясли\\nДетские сады'], ['39 000 000 ₸', '2-комн.', '65 м²', 'современный ремонт', '2008', '3 из 9', 'кирпичные', '2.7 м', 'раздельный', '1.2 км ', 'ул. Тауелсыздык проспект, д. 14 к1', 'Школа-лицей №28\\nШколы', 'Школа-лицей №28\\nШколы'], ['107 000 000 ₸', '4-комн.', '167 м²', 'ремонт по дизайн - проекту', '2010', '3 из 5', 'монолитно-кирпичный', '3.3 м', 'раздельный', '3.2 км ', 'ул. Лайлы-Мажнун пер, д. 14', 'Столичная школа им. Садвакасова Х.Ж.\\nШколы', 'Күнбағыс\\nДетские сады'], ['43 500 000 ₸', '3-комн.', '82 м²', 'современный ремонт', '2021', '2 из 9', 'блочные', '2.7 м', 'раздельный', '4 км ', 'ул. Толе би, д. 46', 'Astana Garden School, частная школа\\nШколы', 'Happy Home, образовательный детский сад\\nДетские сады'], ['30 000 000 ₸', '3-комн.', '86.6 м²', 'современный ремонт', '1999', '3 из 5', 'кирпичные', '2.5 м', 'раздельный', '7.3 км ', 'ул. Суворова, д. 12', 'Школа-гимназия №26\\nШколы', ''], ['15 000 000 ₸', '1-комн.', '35 м²', 'косметический ремонт', '2007', '7 из 12', 'блочные', '2.7 м', 'да', '4.4 км ', 'ул. Ш.Кудайбердыулы пр, д. 31', 'Школа-лицей №38\\nШколы', ''], ['55 000 000 ₸', '4-комн.', '91 м²', 'современный ремонт', '2022', '6 из 9', 'кирпичные', '3 м', 'да', '5.4 км ', 'ул. Ильяс Омаров, д. 27 к1', 'СПЕЦИАЛИЗИРОВАННАЯ ГИМНАЗИЯ № 81 ASTANA ENGLISH SCHOOL\\nШколы', ''], ['21 900 000 ₸', '1-комн.', '42 м²', 'современный ремонт', '2006', '2 из 9', 'монолитные', '2.7 м', 'раздельный', '3 км ', 'ул. Сыганак, д. 27', 'Школа-лицей №59\\nШколы', 'Ақжелкен, частный детский сад\\nДетские сады'], ['20 000 000 ₸', '1-комн.', '38 м²', 'современный ремонт', '2020', '7 из 7', 'монолитно-кирпичный', '2.7 м', 'раздельный', '5 км ', 'ул. Алихан Бокейхан, д. 21', 'SEED School, частная школа\\nШколы', 'Жауқазын, ясли-сад №92\\nДетские сады'], ['24 500 000 ₸', '2-комн.', '56 м²', 'современный ремонт', '2011', '9 из 12', 'монолитно-каркасные', '2.7 м', 'раздельный', '3.2 км ', 'ул. Кошкарбаева, д. 34', 'Школа-лицей №72\\nШколы', 'Diana, детский сад\\nДетские сады'], ['30 500 000 ₸', '2-комн.', '46 м²', 'современный ремонт', '2020', '6 из 22', 'блочные', '2.7 м', 'да', '6 км ', 'ул. Мангилик ел, д. 58', 'Astana Garden School, частная школа\\nШколы', ''], ['18 900 000 ₸', '1-комн.', '43.13 м²', 'косметический ремонт', '2020', '7 из 13', 'сборно-монолитный железобетонный каркас', '3 м', 'раздельный', '3.2 км ', 'ул. Айнакол, д. 66', 'SPECTRUM INTERNATIONAL SCHOOL\\nШколы', 'Жансая, детский сад №83\\nДетские сады'], ['39 000 000 ₸', '3-комн.', '92.1 м²', 'современный ремонт', '2009', '10 из 16', 'кирпичные', '2.8 м', 'раздельный', '3.9 км ', 'ул. Ш.Кудайбердыулы пр, д. 36 к2', 'Школа-лицей №37 им. С. Мауленова\\nШколы', 'Алан, детский сад\\nДетские сады'], ['38 000 000 ₸', '3-комн.', '70 м²', 'современный ремонт', '2021', '6 из 9', 'монолитные', '2.7 м', 'раздельный', '5.9 км ', 'ул. Чингиз Айтматов, д. 33', 'Школа-лицей №71\\nШколы', 'Ma zaika, детский сад\\nДетские сады'], ['18 400 000 ₸', '1-комн.', '47.2 м²', 'косметический ремонт', '2011', '7 из 10', 'кирпичные', '2.7 м', 'совмещенный', '4.7 км ', 'ул. Дукенулы, д. 37 к2', 'Школа-гимназия №7 им. Гали Орманова\\nШколы', 'Ақ ниет Шаркүл, детский сад\\nДетские сады'], ['14 900 000 ₸', '1-комн.', '36 м²', 'косметический ремонт', '1985', '2 из 5', 'монолитные', '2.5 м', 'раздельный', '3.2 км ', 'ул. Абылай-хана проспект, д. 29 к1', 'Голубой парус, школа-детский сад\\nШколы', 'Балдаурен, детский сад №32\\nДетские сады'], ['36 400 000 ₸', '3-комн.', '92 м²', 'косметический ремонт', '2008', '9 из 9', 'панельные', '2.5 м', 'раздельный', '2.9 км ', 'ул. Абылай-хана проспект, д. 5 к1', 'Флагман, физико-технический лицей\\nШколы', 'Ақ Бесiк, частный детский сад\\nДетские сады'], ['7 900 000 ₸', '1-комн.', '29.6 м²', 'косметический ремонт', '2006', '4 из 4', 'кирпичные', '2.7 м', 'раздельный', '9.7 км ', 'ул. Асемконыр пер, д. 8', 'Зерек, частный детский сад\\nДетские сады', 'Колледж экономики, технологии и стандартизации пищевых производств\\nВузы и ссузы'], ['20 500 000 ₸', '3-комн.', '65.2 м²', 'современный ремонт', '1993', '5 из 5', 'кирпичные', '2.5 м', 'раздельный', '4 км ', 'ул. Торайгырова, д. 8', 'Школа-гимназия №4 им. Жамбыла Жабаева\\nШколы', 'Ботақан, детский сад №80\\nДетские сады'], ['20 500 000 ₸', '1-комн.', '40 м²', 'современный ремонт', '2021', '11 из 22', 'монолитно-каркасные', '2.7 м', 'раздельный', '4.6 км ', 'ул. Роза Багланова, д. 6', 'British Kids Corner, английский детский сад\\nДетские сады', ''], ['13 000 000 ₸', '1-комн.', '21.8 м²', 'современный ремонт', '1981', '2 из 5', 'панельные', '2.5 м', 'раздельный', '1.5 км ', 'ул. Петрова, д. 2 к1', 'Экономический лицей\\nШколы', 'Алтынай, детский сад №49\\nДетские сады'], ['15 000 000 ₸', '1-комн.', '36.7 м²', 'ремонт по дизайн - проекту', '2020', '10 из 12', 'монолитные', '2.6 м', 'раздельный', '5.7 км ', 'ул. Ермек Серкебаев, д. 33 к1', 'Гимназия №67\\nШколы', 'Жанарым, детский сад №72\\nДетские сады'], ['10 500 000 ₸', '1-комн.', '38 м²', 'улучшенная черновая отделка', '2023', '7 из 9', 'кирпичные', '2.8 м', 'раздельный', '5.1 км ', 'ул. Аманжол Болекпаев, д. 22', 'Школа-гимназия №86\\nШколы', 'Babykz, детский сад\\nДетские сады'], ['16 000 000 ₸', '1-комн.', '36.9 м²', 'косметический ремонт', '2010', '2 из 12', 'кирпичные', '3 м', 'раздельный', '5.5 км ', 'ул. Шаймердена Косшыгулулы, д. 19 к2', 'Гимназия №67\\nШколы', 'Жанарым, детский сад №72\\nДетские сады'], ['36 000 000 ₸', '3-комн.', '87.5 м²', 'косметический ремонт', '2007', '6 из 10', 'монолитные', '2.7 м', 'раздельный', '2.9 км ', 'ул. Куйши Дина, д. 25 к1', 'Школа-гимназия №51\\nШколы', 'Ақниет, детский сад\\nДетские сады'], ['21 000 000 ₸', '1-комн.', '45.1 м²', 'современный ремонт', '2018', '3 из 15', 'монолитные', '3 м', 'раздельный', '3.1 км ', 'ул. Кошкарбаева, д. 32 к4', 'Школа-лицей №72\\nШколы', ''], ['25 500 000 ₸', '2-комн.', '57.2 м²', 'современный ремонт', '2009', '4 из 9', 'монолитно-кирпичный', '2.7 м', 'раздельный', '4.9 км ', 'ул. Габидена Мустафина, д. 21 к5', 'Школа-лицей №64\\nШколы', 'Теремок, частный детский сад-ясли\\nДетские сады'], ['42 500 000 ₸', '3-комн.', '114 м²', 'современный ремонт', '2000', '4 из 9', 'кирпичные', '2.8 м', 'раздельный', '2.4 км ', 'ул. Бигельдинова, д. 5', 'Абай Құнанбайұлы атындағы №87 мектеп-гимназия\\nШколы', ''], ['30 000 000 ₸', '3-комн.', '86.6 м²', 'современный ремонт', '1999', '3 из 5', 'кирпичные', '2.5 м', 'раздельный', '7.3 км ', 'ул. Суворова, д. 12', 'Школа-гимназия №26\\nШколы', 'Абай, частный детский сад\\nДетские сады'], ['15 000 000 ₸', '1-комн.', '35 м²', 'косметический ремонт', '2007', '7 из 12', 'блочные', '2.7 м', 'да', '4.4 км ', 'ул. Ш.Кудайбердыулы пр, д. 31', 'Школа-лицей №38\\nШколы', 'Daruna.kz, детский сад\\nДетские сады'], ['21 900 000 ₸', '1-комн.', '42 м²', 'современный ремонт', '2006', '2 из 9', 'монолитные', '2.7 м', 'раздельный', '3 км ', 'ул. Сыганак, д. 27', 'Школа-лицей №59\\nШколы', ''], ['20 000 000 ₸', '1-комн.', '38 м²', 'современный ремонт', '2020', '7 из 7', 'монолитно-кирпичный', '2.7 м', 'раздельный', '5 км ', 'ул. Алихан Бокейхан, д. 21', 'SEED School, частная школа\\nШколы', ''], ['24 500 000 ₸', '2-комн.', '56 м²', 'современный ремонт', '2011', '9 из 12', 'монолитно-каркасные', '2.7 м', 'раздельный', '3.2 км ', 'ул. Кошкарбаева, д. 34', 'Школа-лицей №72\\nШколы', 'Diana, детский сад\\nДетские сады'], ['18 900 000 ₸', '1-комн.', '43.13 м²', 'косметический ремонт', '2020', '7 из 13', 'сборно-монолитный железобетонный каркас', '3 м', 'раздельный', '3.2 км ', 'ул. Айнакол, д. 66', 'SPECTRUM INTERNATIONAL SCHOOL\\nШколы', ''], ['39 000 000 ₸', '3-комн.', '92.1 м²', 'современный ремонт', '2009', '10 из 16', 'кирпичные', '2.8 м', 'раздельный', '3.9 км ', 'ул. Ш.Кудайбердыулы пр, д. 36 к2', 'Школа-лицей №37 им. С. Мауленова\\nШколы', 'Алан, детский сад\\nДетские сады'], ['38 000 000 ₸', '3-комн.', '70 м²', 'современный ремонт', '2021', '6 из 9', 'монолитные', '2.7 м', 'раздельный', '5.9 км ', 'ул. Чингиз Айтматов, д. 33', 'Школа-лицей №71\\nШколы', 'Ma zaika, детский сад\\nДетские сады'], ['5 800 000 ₸', '1-комн.', '21 м²', 'косметический ремонт', '2014', '1 из 9', 'монолитно-кирпичный', '2.5 м', 'раздельный', '4.9 км ', 'ул. Женiс пр, д. 43 к2', 'Школа-лицей №15\\nШколы', 'Симка, частный детский сад\\nДетские сады'], ['18 400 000 ₸', '1-комн.', '47.2 м²', 'косметический ремонт', '2011', '7 из 10', 'кирпичные', '2.7 м', 'совмещенный', '4.7 км ', 'ул. Дукенулы, д. 37 к2', 'Школа-гимназия №7 им. Гали Орманова\\nШколы', ''], ['14 900 000 ₸', '1-комн.', '36 м²', 'косметический ремонт', '1985', '2 из 5', 'монолитные', '2.5 м', 'раздельный', '3.2 км ', 'ул. Абылай-хана проспект, д. 29 к1', 'Голубой парус, школа-детский сад\\nШколы', 'Балдаурен, детский сад №32\\nДетские сады'], ['36 400 000 ₸', '3-комн.', '92 м²', 'косметический ремонт', '2008', '9 из 9', 'панельные', '2.5 м', 'раздельный', '2.9 км ', 'ул. Абылай-хана проспект, д. 5 к1', 'Флагман, физико-технический лицей\\nШколы', 'Ақ Бесiк, частный детский сад\\nДетские сады'], ['7 900 000 ₸', '1-комн.', '29.6 м²', 'косметический ремонт', '2006', '4 из 4', 'кирпичные', '2.7 м', 'раздельный', '9.7 км ', 'ул. Асемконыр пер, д. 8', 'Зерек, частный детский сад\\nДетские сады', ''], ['20 500 000 ₸', '3-комн.', '65.2 м²', 'современный ремонт', '1993', '5 из 5', 'кирпичные', '2.5 м', 'раздельный', '4 км ', 'ул. Торайгырова, д. 8', 'Школа-гимназия №4 им. Жамбыла Жабаева\\nШколы', 'Ботақан, детский сад №80\\nДетские сады'], ['13 000 000 ₸', '1-комн.', '21.8 м²', 'современный ремонт', '1981', '2 из 5', 'панельные', '2.5 м', 'раздельный', '1.5 км ', 'ул. Петрова, д. 2 к1', 'Экономический лицей\\nШколы', 'Алтынай, детский сад №49\\nДетские сады'], ['15 000 000 ₸', '1-комн.', '36.7 м²', 'ремонт по дизайн - проекту', '2020', '10 из 12', 'монолитные', '2.6 м', 'раздельный', '5.7 км ', 'ул. Ермек Серкебаев, д. 33 к1', 'Гимназия №67\\nШколы', ''], ['14 400 000 ₸', '1-комн.', '30 м²', 'косметический ремонт', '2017', '13 из 13', 'кирпичные', '3 м', 'раздельный', '5.4 км ', 'ул. Сыганак, д. 6', 'Школа-гимназия №78\\nШколы', 'Таң нұры, детский сад\\nДетские сады'], ['10 500 000 ₸', '1-комн.', '38 м²', 'улучшенная черновая отделка', '2023', '7 из 9', 'кирпичные', '2.8 м', 'раздельный', '5.1 км ', 'ул. Аманжол Болекпаев, д. 22', 'Школа-гимназия №86\\nШколы', 'Babykz, детский сад\\nДетские сады'], ['16 000 000 ₸', '1-комн.', '36.9 м²', 'косметический ремонт', '2010', '2 из 12', 'кирпичные', '3 м', 'раздельный', '5.5 км ', 'ул. Шаймердена Косшыгулулы, д. 19 к2', 'Гимназия №67\\nШколы', 'Жанарым, детский сад №72\\nДетские сады'], ['36 000 000 ₸', '3-комн.', '87.5 м²', 'косметический ремонт', '2007', '6 из 10', 'монолитные', '2.7 м', 'раздельный', '2.9 км ', 'ул. Куйши Дина, д. 25 к1', 'Школа-гимназия №51\\nШколы', ''], ['21 000 000 ₸', '1-комн.', '45.1 м²', 'современный ремонт', '2018', '3 из 15', 'монолитные', '3 м', 'раздельный', '3.1 км ', 'ул. Кошкарбаева, д. 32 к4', 'Школа-лицей №72\\nШколы', 'Ерлентай, частный ясли-сад\\nДетские сады'], ['25 500 000 ₸', '2-комн.', '57.2 м²', 'современный ремонт', '2009', '4 из 9', 'монолитно-кирпичный', '2.7 м', 'раздельный', '4.9 км ', 'ул. Габидена Мустафина, д. 21 к5', 'Школа-лицей №64\\nШколы', 'Теремок, частный детский сад-ясли\\nДетские сады'], ['29 500 000 ₸', '3-комн.', '112.9 м²', 'современный ремонт', '2011', '6 из 6', 'кирпичные', '2.5 м', 'раздельный', '5.8 км ', 'ул. Кошкарбаева, д. 80', 'Школа-гимназия №63\\nШколы', 'Прогресс-Алға Басу, логопедический детский сад\\nДетские сады'], ['29 000 000 ₸', '2-комн.', '50.9 м²', 'косметический ремонт', '2016', '3 из 8', 'кирпичные', '2.8 м', 'раздельный', '6.1 км ', 'ул. Касым Кайсенов, д. 2', 'BINOM SCHOOL, школа-лицей\\nШколы', 'Baby Village, детский сад\\nДетские сады'], ['23 500 000 ₸', '2-комн.', '54.9 м²', 'современный ремонт', '2012', '9 из 9', 'монолитно-кирпичный', '2.5 м', 'раздельный', '4.6 км ', 'ул. Кайрата Рыскулбекова, д. 16 к1', 'Школа-лицей №64\\nШколы', 'Жанұя, детский сад\\nДетские сады'], ['22 000 000 ₸', '1-комн.', '41.5 м²', 'современный ремонт', '2022', '7 из 12', 'кирпичные', '2.5 м', 'раздельный', '8.2 км ', 'ул. Калдаякова', 'АҚҚАНАТ, детский сад №59\\nДетские сады', 'Технический колледж\\nВузы и ссузы'], ['15 500 000 ₸', '2-комн.', '44.88 м²', 'улучшенная черновая отделка', '2022', '4 из 9', 'монолитные', '2.8 м', 'раздельный', '8.2 км ', 'ул. Нажимеденов', 'АҚҚАНАТ, детский сад №59\\nДетские сады', 'Технический колледж\\nВузы и ссузы'], ['15 400 000 ₸', '1-комн.', '30.5 м²', 'современный ремонт', '2019', '8 из 10', 'кирпичные', '2.5 м', 'совмещенный', '5.6 км ', 'ул. Сарыбулакская, д. 34', 'Школа-гимназия №14\\nШколы', 'Балапан №1, частный детский сад\\nДетские сады'], ['50 000 000 ₸', '4-комн.', '98 м²', 'современный ремонт', '2011', '1 из 9', 'монолитные', '2.7 м', 'раздельный', '3.4 км ', 'ул. Сауран, д. 14', 'Школа-лицей №89\\nШколы', 'Нур-Ай, детский сад №54\\nДетские сады'], ['25 000 000 ₸', '2-комн.', '62.6 м²', 'современный ремонт', '2018', '5 из 7', 'кирпичные', '2.8 м', 'раздельный', '2.6 км ', 'ул. А-92, д. 2', 'NURORDA, школа-лицей\\nШколы', 'Green kids\\nДетские сады'], ['9 500 000 ₸', '1-комн.', '30.1 м²', 'косметический ремонт', '1965', '4 из 4', 'панельные', '2.6 м', 'раздельный', '10.8 км ', 'ул. Арнасай, д. 113', 'Средняя школа №24\\nШколы', 'Салтанат, ясли-сад №57\\nДетские сады'], ['19 500 000 ₸', '1-комн.', '35 м²', 'косметический ремонт', '2018', '5 из 12', 'монолитные', '2.7 м', 'раздельный', '4.9 км ', 'ул. Казыбек би, д. 11 к2', 'British Kids Corner, английский детский сад\\nДетские сады', 'Детская площадка\\nДетские площадки'], ['8 900 000 ₸', '1-комн.', '30 м²', 'косметический ремонт', '2010', '1 из 4', 'кирпичные', '2.5 м', 'раздельный', '9.7 км ', 'ул. Асемконыр пер, д. 8', 'Зерек, частный детский сад\\nДетские сады', 'Колледж экономики, технологии и стандартизации пищевых производств\\nВузы и ссузы'], ['23 900 000 ₸', '1-комн.', '45.5 м²', 'современный ремонт', '2015', '6 из 9', 'монолитно-каркасные', '2.7 м', 'раздельный', '0.9 км ', 'ул. Тауелсыздык проспект, д. 21', 'MILESTONE\\nШколы', 'Маленькие мы, детский сад\\nДетские сады'], ['20 400 000 ₸', '1-комн.', '44.8 м²', 'современный ремонт', '2016', '23 из 23', 'панельные', '3 м', 'раздельный', '4.1 км ', 'ул. Туран пр, д. 55 к1', 'Даулет, детский сад\\nДетские сады', 'Детская площадка\\nДетские площадки'], ['16 900 000 ₸', '1-комн.', '49.1 м²', 'косметический ремонт', '2016', '12 из 12', 'монолитно-кирпичный', '2.7 м', 'раздельный', '5.9 км ', 'ул. Азилхан Нуршайыков, д. 6 к1', 'Школа-гимназия №78\\nШколы', 'Таң нұры, детский сад\\nДетские сады'], ['27 400 000 ₸', '2-комн.', '43.2 м²', 'косметический ремонт', '2021', '5 из 12', 'монолитные', '2.7 м', 'да', '8.2 км ', 'ул. Кайрата Рыскулбекова', 'АҚҚАНАТ, детский сад №59\\nДетские сады', 'Технический колледж\\nВузы и ссузы'], ['49 000 000 ₸', '3-комн.', '98.1 м²', 'современный ремонт', '2017', '4 из 14', 'сборно-монолитный железобетонный каркас', '3 м', 'совмещенный', '3.3 км ', 'ул. Керей-жанибек хандар, д. 28', 'Школа-лицей №76 им. Әлихан Бөкейхан\\nШколы', 'Чудо Детство\\nДетские сады'], ['19 900 000 ₸', '1-комн.', '39.6 м²', 'улучшенная черновая отделка', '2022', '6 из 15', 'блочные', '3 м', 'раздельный', '3 км ', 'ул. Кошкарбаева, д. 13', 'Школа-лицей №72\\nШколы', 'Diana, детский сад\\nДетские сады'], ['11 350 000 ₸', '1-комн.', '29.8 м²', 'косметический ремонт', '2011', '3 из 5', 'кирпичные', '2.7 м', 'совмещенный', '16.5 км ', 'ул. Лесная Поляна (п.Косшы), д. 12', 'Косшынская средняя школа №2\\nШколы', 'Алтын Дән, детский сад\\nДетские сады'], ['55 000 000 ₸', '4-комн.', '127.5 м²', 'современный ремонт', '2011', '6 из 12', 'кирпичные', '2.7 м', 'раздельный', '3.7 км ', 'ул. Кошкарбаева, д. 46', 'Школа-гимназия №83\\nШколы', 'Мөлдір, детский сад №71\\nДетские сады'], ['43 000 000 ₸', '2-комн.', '88.3 м²', 'современный ремонт', '2009', '4 из 12', 'кирпичные', '3 м', 'раздельный', '1.5 км ', 'ул. Сарайшык, д. 34', 'Школа-лицей №66\\nШколы', 'Академия Маленьких Принцесс\\nДетские сады'], ['71 800 000 ₸', '5-комн.', '166.4 м²', 'ремонт по дизайн - проекту', '2006', '3 из 10', 'кирпичные', '2.7 м', 'да', '1.8 км ', 'ул. Куйши Дина, д. 12 к1', 'Школа-лицей №50 им. Райымбека Батыра\\nШколы', 'Kidland, частный детский сад\\nДетские сады'], ['17 900 000 ₸', '1-комн.', '39.5 м²', 'черновая отделка', '2022', '2 из 9', 'блочные', '3 м', 'раздельный', '6.2 км ', 'ул. Толе би, д. 25 к1', 'Назарбаев Университет\\nВузы и ссузы', ''], ['41 000 000 ₸', '3-комн.', '88.99 м²', 'современный ремонт', '2022', '9 из 9', 'монолитные', '3 м', 'раздельный', '6.1 км ', 'ул. Е669, д. 4 к1', 'Intellect Primary School\\nШколы', 'MAJORIK, детский сад\\nДетские сады'], ['29 500 000 ₸', '3-комн.', '80 м²', 'косметический ремонт', '2016', '6 из 12', 'монолитно-каркасные', '2.7 м', 'раздельный', '5.4 км ', 'ул. Кобыланды Батыр, д. 7н', 'Школа-гимназия №52\\nШколы', 'Жанұя, детский сад\\nДетские сады'], ['55 000 000 ₸', '3-комн.', '90 м²', 'современный ремонт', '2016', '4 из 8', 'кирпичные', '2.8 м', 'раздельный', '5.2 км ', 'ул. Касым Кайсенов, д. 4', 'Дарын, специализированный лицей №82\\nШколы', ''], ['9 400 000 ₸', '1-комн.', '28.3 м²', 'косметический ремонт', '2013', '3 из 5', 'кирпичные', '2.7 м', 'раздельный', '16.2 км ', 'ул. Лесная Поляна (п.Косшы), д. 22', 'Косшынская средняя школа №2\\nШколы', 'Алтын Дән, детский сад\\nДетские сады'], ['19 300 000 ₸', '1-комн.', '38 м²', 'косметический ремонт', '2018', '5 из 9', 'монолитные', '2.7 м', 'раздельный', '5.3 км ', 'ул. 38-я, д. 30', 'BINOM SCHOOL, школа-лицей\\nШколы', 'UNI KIDS\\nДетские сады'], ['15 500 000 ₸', '1-комн.', '39 м²', 'косметический ремонт', '2009', '4 из 12', 'кирпичные', '2.7 м', 'раздельный', '6.4 км ', 'ул. Тлендиева пр, д. 15 к1', 'Школа-гимназия №58\\nШколы', 'Daycare, детский сад\\nДетские сады'], ['20 900 000 ₸', '1-комн.', '33.4 м²', 'современный ремонт', '2022', '13 из 16', 'монолитные', '2.7 м', 'раздельный', '8.2 км ', 'ул. Мангилик ел, д. 72', 'Карлыгаш, детский сад\\nДетские сады', 'Национальный университет обороны им. Первого Президента РК-Елбасы\\nВузы и ссузы'], ['35 000 000 ₸', '3-комн.', '82.7 м²', 'современный ремонт', '2014', '9 из 9', 'монолитно-каркасные', '2.8 м', 'раздельный', '5 км ', 'ул. Е 251, д. 4 к1', 'СПЕЦИАЛИЗИРОВАННАЯ ГИМНАЗИЯ № 81 ASTANA ENGLISH SCHOOL\\nШколы', ''], ['35 000 000 ₸', '3-комн.', '88.8 м²', 'современный ремонт', '2022', '5 из 7', 'кирпичные', '3 м', 'раздельный', '5.2 км ', 'ул. Е15, д. 11', 'BINOM SCHOOL, школа-лицей\\nШколы', 'Зияткер, детский сад №86\\nДетские сады'], ['24 500 000 ₸', '2-комн.', '43.4 м²', 'косметический ремонт', '2020', '6 из 12', 'монолитно-каркасные', '3 м', 'раздельный', '5.6 км ', 'ул. Улы Дала, д. 33', 'Школа-лицей №85 им.Тамима бен Хамада аль-Тани\\nШколы', 'Kidz n`totz\\nДетские сады'], ['18 900 000 ₸', '1-комн.', '39.2 м²', 'черновая отделка', '2022', '6 из 15', 'блочные', '3 м', 'совмещенный', '3 км ', 'ул. Кошкарбаева, д. 13', 'Школа-лицей №72\\nШколы', 'Diana, детский сад\\nДетские сады'], ['11 900 000 ₸', '1-комн.', '31.2 м²', 'современный ремонт', '2018', '1 из 6', 'кирпичные', '2.7 м', 'раздельный', '7.6 км ', 'ул. Даулеткерей, д. 8', 'Керуен, частный детский сад\\nДетские сады', ''], ['23 400 000 ₸', '2-комн.', '59.3 м²', 'косметический ремонт', '2020', '5 из 9', 'кирпичные', '2.7 м', 'раздельный', '8.2 км ', 'ул. Мукан Толебаева', 'АҚҚАНАТ, детский сад №59\\nДетские сады', ''], ['42 000 000 ₸', '3-комн.', '111.2 м²', 'косметический ремонт', '2009', '10 из 10', 'кирпичные', '2.7 м', 'раздельный', '3.8 км ', 'ул. Култобе пер, д. 11', 'Специальная школа №3\\nШколы', ''], ['22 000 000 ₸', '2-комн.', '50 м²', 'современный ремонт', '2018', '15 из 17', 'монолитные', '2.7 м', 'да', '5.9 км ', 'ул. Е430, д. 2', 'Гимназия №90 им. Қайыма Мұхамедханова\\nШколы', 'Medina, частный детский сад\\nДетские сады'], ['27 400 000 ₸', '2-комн.', '48 м²', 'ремонт по дизайн - проекту', '2017', '4 из 8', 'кирпичные', '2.7 м', 'да', '4.9 км ', 'ул. Касым Кайсенов, д. 6', 'BINOM SCHOOL, школа-лицей\\nШколы', ''], ['24 000 000 ₸', '2-комн.', '64 м²', 'косметический ремонт', '2006', '7 из 14', 'монолитно-каркасные', '2.7 м', 'да', '2.2 км ', 'ул. Жирентаева, д. 4 к1', 'Школа-гимназия №22\\nШколы', ''], ['27 000 000 ₸', '2-комн.', '53.2 м²', 'косметический ремонт', '2015', '11 из 15', 'блочные', '2.9 м', 'да', '2.8 км ', 'ул. Мангилик ел, д. 17', 'Школа-гимназия №77\\nШколы', 'Dinaland\\nДетские сады'], ['21 000 000 ₸', '2-комн.', '47.49 м²', 'черновая отделка', '2022', '8 из 12', 'монолитные', '3 м', 'да', '4.8 км ', 'ул. Туран пр, д. 55 к11', 'Даулет, детский сад\\nДетские сады', 'Alem Education College\\nВузы и ссузы'], ['18 000 000 ₸', '1-комн.', '33.2 м²', 'современный ремонт', '2022', '9 из 13', 'кирпичные', '2.8 м', 'раздельный', '1.7 км ', 'ул. Тауелсыздык проспект, д. 34 к9', 'Школа-лицей №53 им. Б. Момышұлы\\nШколы', ''], ['13 900 000 ₸', '1-комн.', '30 м²', 'косметический ремонт', '1976', '5 из 5', 'блочные', '2.5 м', 'раздельный', '2.1 км ', 'ул. Малика Габдуллина, д. 6 к1', 'Школа-гимназия №10\\nШколы', 'Самал, санаторный ясли-сад №46\\nДетские сады'], ['13 000 000 ₸', '1-комн.', '47 м²', 'косметический ремонт', '2013', '5 из 5', 'кирпичные', '2.7 м', 'раздельный', '16.3 км ', 'ул. Лесная Поляна (п.Косшы), д. 21', 'Косшынская средняя школа №2\\nШколы', 'Алтын Дән, детский сад\\nДетские сады'], ['22 500 000 ₸', '1-комн.', '35.1 м²', 'современный ремонт', '2021', '7 из 9', 'кирпичные', '2.7 м', 'раздельный', '4.7 км ', 'ул. Кайыма Мухамедханова, д. 21 к2', 'Школа-лицей №79\\nШколы', 'Балдырған, детский сад\\nДетские сады'], ['20 000 000 ₸', '3-комн.', '59.9 м²', 'косметический ремонт', '1971', '5 из 5', 'панельные', '2.5 м', 'раздельный', '6 км ', 'ул. Ыбырай Алтынсарин, д. 7', 'Средняя школа №25\\nШколы', ''], ['23 500 000 ₸', '3-комн.', '65.2 м²', 'косметический ремонт', '1996', '5 из 5', 'кирпичные', '2.5 м', 'раздельный', '2 км ', 'ул. Петрова, д. 17', 'Школа-гимназия №30\\nШколы', 'Нуршашу, детский сад №9\\nДетские сады'], ['35 400 000 ₸', '2-комн.', '50.7 м²', 'современный ремонт', '2020', '10 из 20', 'монолитные', '2.7 м', 'раздельный', '5.2 км ', 'ул. Кабанбай батыра пр, д. 49', 'Школа-лицей №85 им.Тамима бен Хамада аль-Тани\\nШколы', 'Mega Kids\\nДетские сады'], ['19 200 000 ₸', '2-комн.', '52.4 м²', 'современный ремонт', '2017', '10 из 15', 'кирпичные', '2.7 м', 'да', '8.6 км ', 'ул. Тлендиева пр, д. 46', 'Школа-лицей №40 им Ә.Марғұлан\\nШколы', 'Балажан, частный детский сад\\nДетские сады'], ['85 000 000 ₸', '3-комн.', '138.1 м²', 'ремонт по дизайн - проекту', '2008', '4 из 7', 'кирпичные', '3.6 м', 'раздельный', '4.4 км ', 'ул. Кургальжинское шоссе, д. 6', 'QSI, международная школа\\nШколы', 'Aspan, детский сад\\nДетские сады'], ['26 400 000 ₸', '2-комн.', '55 м²', 'косметический ремонт', '2006', '5 из 9', 'монолитные', '2.7 м', 'раздельный', '2.3 км ', 'ул. Сауран, д. 4', 'Школа-лицей №59\\nШколы', 'Happy baby Astana\\nДетские сады'], ['39 000 000 ₸', '2-комн.', '83 м²', 'современный ремонт', '2018', '7 из 9', 'кирпичные', '2.9 м', 'раздельный', '5 км ', 'ул. Темирбека Жургенова, д. 18 к2', 'Школа-гимназия №86\\nШколы', 'Еркеназ, детский сад\\nДетские сады'], ['64 000 000 ₸', '3-комн.', '140 м²', 'косметический ремонт', '2007', '5 из 13', 'кирпичные', '3 м', 'раздельный', '3 км ', 'ул. Кенесары, д. 69', 'Средняя школа №16 им. Т. Айбергенова\\nШколы', 'Golden minds, детский сад\\nДетские сады'], ['75 800 000 ₸', '3-комн.', '100.9 м²', 'современный ремонт', '2020', '4 из 9', 'монолитные', '3 м', 'раздельный', '5.1 км ', 'ул. Улы Дала, д. 41 к2', 'Школа-лицей №84\\nШколы', 'Umay\\nДетские сады'], ['24 000 000 ₸', '2-комн.', '44.2 м²', 'косметический ремонт', '2016', '6 из 14', 'монолитные', '2.7 м', 'да', '3.6 км ', 'ул. Сакена Сейфуллина, д. 41', 'Школа-гимназия №4 им. Жамбыла Жабаева\\nШколы', 'Гномик, детский сад\\nДетские сады'], ['32 000 000 ₸', '2-комн.', '69 м²', 'современный ремонт', '2011', '13 из 14', 'кирпичные', '2.7 м', 'раздельный', '4.9 км ', 'ул. Шаймердена Косшыгулулы, д. 7', 'Школа-гимназия №80\\nШколы', 'Жанель, частный детский сад\\nДетские сады'], ['27 400 000 ₸', '2-комн.', '59.7 м²', 'косметический ремонт', '2006', '4 из 9', 'кирпичные', '2.7 м', 'раздельный', '2.7 км ', 'ул. Абылай-хана проспект, д. 6 к1', 'Школа-лицей №48 им.Ахмета Байтурсынова\\nШколы', 'Смайлик, детский сад\\nДетские сады'], ['32 400 000 ₸', '2-комн.', '70 м²', 'современный ремонт', '2011', '11 из 12', 'монолитно-каркасные', '2.7 м', 'раздельный', '3.2 км ', 'ул. Кошкарбаева, д. 34', 'Школа-лицей №72\\nШколы', 'Diana, детский сад\\nДетские сады'], ['14 000 000 ₸', '1-комн.', '31.2 м²', 'косметический ремонт', '1965', '4 из 5', 'панельные', '2.5 м', 'раздельный', '5.7 км ', 'ул. Женiс пр, д. 69', 'Вечерняя сменная школа №39\\nШколы', ''], ['42 000 000 ₸', '2-комн.', '66.1 м²', 'косметический ремонт', '2018', '7 из 12', 'монолитные', '2.7 м', 'раздельный', '3.9 км ', 'ул. Кабанбай батыра пр, д. 48', 'Школа-лицей №89\\nШколы', 'Teams School\\nДетские сады'], ['15 500 000 ₸', '1-комн.', '38.3 м²', 'улучшенная черновая отделка', '2022', '7 из 9', 'кирпичные', '2.7 м', 'раздельный', '7.4 км ', 'ул. Ахмет Байтурсынулы, д. 36а', 'Детская площадка\\nДетские площадки', 'Фермер\\nМагазины'], ['17 500 000 ₸', '3-комн.', '61.1 м²', 'косметический ремонт', '2013', '4 из 5', 'кирпичные', '2.7 м', 'да', '16.6 км ', 'ул. Лесная Поляна (п.Косшы), д. 2', 'Косшынская средняя школа №2\\nШколы', 'Baby Boom, частный детский сад\\nДетские сады'], ['36 999 000 ₸', '5-комн.', '101 м²', 'косметический ремонт', '1991', '1 из 6', 'кирпичные', '2.5 м', 'раздельный', '5.1 км ', 'ул. Жамбыл, д. 79', 'Средняя школа №18\\nШколы', 'Таншолпан, детский сад №25\\nДетские сады'], ['19 400 000 ₸', '1-комн.', '50 м²', 'современный ремонт', '2021', '8 из 13', 'кирпичные', '2.7 м', 'раздельный', '4.3 км ', 'ул. Мукан Толебаева, д. 5', 'TALANT School, частная начальная школа\\nШколы', 'Ғажайып Әлем, детский сад\\nДетские сады'], ['22 400 000 ₸', '2-комн.', '50 м²', 'косметический ремонт', '2021', '8 из 9', 'кирпичные', '3 м', 'раздельный', '4.5 км ', 'ул. Ахмет Байтурсынулы, д. 39 к3', 'Школа-гимназия №86\\nШколы', 'Babykz, детский сад\\nДетские сады'], ['15 300 000 ₸', '1-комн.', '30 м²', 'косметический ремонт', '2017', '4 из 9', 'монолитные', '2.7 м', 'раздельный', '5.8 км ', 'ул. 38-я, д. 34 к1', 'BINOM SCHOOL, школа-лицей\\nШколы', 'Newkosha, детский сад\\nДетские сады'], ['21 700 000 ₸', '2-комн.', '50 м²', 'современный ремонт', '2022', '2 из 9', 'монолитно-каркасные', '2.65 м', 'да', '6.6 км ', 'ул. Е 511, д. 38', 'Intellect Primary School\\nШколы', 'MAJORIK, детский сад\\nДетские сады'], ['16 800 000 ₸', '2-комн.', '49.9 м²', 'косметический ремонт', '1994', '1 из 6', 'кирпичные', '2.5 м', 'раздельный', '7.2 км ', 'ул. Суворова, д. 16', 'Школа-гимназия №26\\nШколы', 'Абай, частный детский сад\\nДетские сады'], ['11 800 000 ₸', '1-комн.', '30 м²', 'современный ремонт', '2020', '4 из 5', 'кирпичные', '2.7 м', 'раздельный', '20.1 км ', 'ул. Лесная Поляна (п.Косшы)', 'Средняя школа №1 им. Р. Кошкарбаева\\nШколы', 'Мирас, детский сад\\nДетские сады'], ['15 000 000 ₸', '1-комн.', '34 м²', 'современный ремонт', '2014', '1 из 13', 'блочные', '2.5 м', 'раздельный', '5.7 км ', 'ул. Чингиз Айтматов, д. 36', 'Школа-лицей №71\\nШколы', 'Ma zaika, детский сад\\nДетские сады'], ['20 500 000 ₸', '2-комн.', '48.5 м²', 'современный ремонт', '2007', '7 из 10', 'монолитно-каркасные', '2.7 м', 'да', '2 км ', 'ул. Каныша Сатпаева, д. 23 к1', 'Школа-гимназия №51\\nШколы', 'Байтерек, детский сад\\nДетские сады'], ['58 500 000 ₸', '3-комн.', '86 м²', 'черновая отделка', '2023', '3 из 5', 'монолитно-каркасные', '3 м', 'раздельный', '3.7 км ', 'ул. Акмешит, д. 17', 'Школа-лицей №89\\nШколы', 'Айару, детский сад №82\\nДетские сады'], ['15 400 000 ₸', '1-комн.', '32.7 м²', 'косметический ремонт', '2017', '4 из 5', 'кирпичные', '2.7 м', 'раздельный', '10.9 км ', 'ул. Кабанбай батыра пр, д. 105 к1', 'Средняя школа №24\\nШколы', ''], ['32 000 000 ₸', '2-комн.', '61 м²', 'улучшенная черновая отделка', '2023', '3 из 9', 'монолитно-каркасные', '3 м', 'раздельный', '3.8 км ', 'ул. Керей-жанибек хандар, д. 44', 'Средняя школа №45\\nШколы', 'Береке, детский сад №56\\nДетские сады'], ['16 500 000 ₸', '2-комн.', '55 м²', 'косметический ремонт', '2015', '17 из 17', 'кирпичные', '2.7 м', 'раздельный', '10.2 км ', 'ул. Тлендиева пр, д. 50', 'Средняя школа №68 им. М. Дулатова\\nШколы', 'Болашак, детский сад\\nДетские сады'], ['22 900 000 ₸', '3-комн.', '78.95 м²', 'улучшенная черновая отделка', '2021', '1 из 7', 'кирпичные', '2.8 м', 'раздельный', '8.2 км ', 'ул. Сафуан Шаймерденов', 'АҚҚАНАТ, детский сад №59\\nДетские сады', 'Технический колледж\\nВузы и ссузы'], ['14 500 000 ₸', '2-комн.', '41 м²', 'косметический ремонт', '1970', '4 из 5', 'кирпичные', '2.5 м', 'раздельный', '1.8 км ', 'ул. Жангельдина, д. 4', 'Школа-лицей №66\\nШколы', 'Teams School\\nДетские сады'], ['27 200 000 ₸', '3-комн.', '76.6 м²', 'косметический ремонт', '2010', '22 из 25', 'монолитные', '2.7 м', 'раздельный', '3 км ', 'ул. Абая просп, д. 92 к2', 'Средняя школа №16 им. Т. Айбергенова\\nШколы', 'Шағала, детский сад №16\\nДетские сады'], ['16 900 000 ₸', '2-комн.', '50.7 м²', 'современный ремонт', '2012', '11 из 11', 'монолитно-кирпичный', '2.7 м', 'раздельный', '2.1 км ', 'ул. Жанибека Тархана, д. 17', 'Гимназия №5\\nШколы', ''], ['16 400 000 ₸', '2-комн.', '38 м²', 'косметический ремонт', '1973', '1 из 5', 'панельные', '2.7 м', 'раздельный', '1.3 км ', 'ул. Тауелсыздык проспект, д. 6 к2', 'Экономический лицей\\nШколы', 'Гулдер, детский сад №21\\nДетские сады'], ['31 000 000 ₸', '2-комн.', '58 м²', 'современный ремонт', '2021', '14 из 18', 'кирпичные', '2.5 м', 'раздельный', '8.2 км ', 'ул. Калдаякова', 'АҚҚАНАТ, детский сад №59\\nДетские сады', 'Технический колледж\\nВузы и ссузы'], ['32 000 000 ₸', '2-комн.', '73.2 м²', 'современный ремонт', '2016', '7 из 23', 'монолитные', '2.7 м', 'раздельный', '4.1 км ', 'ул. Туран пр, д. 55 к3', 'Ananas, частный детский сад\\nДетские сады', 'Детская площадка\\nДетские площадки'], ['32 000 000 ₸', '3-комн.', '65 м²', 'современный ремонт', '2012', '7 из 18', 'монолитные', '2.7 м', 'раздельный', '1.7 км ', 'ул. Сарайшык, д. 5 к1', 'MLS ELORDA, математико-языковая школа\\nШколы', 'ORKEN LAND, детский сад\\nДетские сады'], ['23 000 000 ₸', '2-комн.', '39.2 м²', 'современный ремонт', '2021', '3 из 9', 'кирпичные', '2.7 м', 'да', '4.7 км ', 'ул. Кайыма Мухамедханова, д. 21 к2', 'Школа-лицей №79\\nШколы', 'Балдырған, детский сад\\nДетские сады'], ['62 000 000 ₸', '3-комн.', '94.3 м²', 'ремонт по дизайн - проекту', '2018', '3 из 15', 'монолитно-кирпичный', '2.7 м', 'раздельный', '4.1 км ', 'ул. Кабанбай батыра пр, д. 48б', 'Школа-лицей №89\\nШколы', 'Bambini-club, частный детский сад\\nДетские сады'], ['30 500 000 ₸', '2-комн.', '52 м²', 'современный ремонт', '2020', '5 из 10', 'кирпичные', '3 м', 'да', '4.2 км ', 'ул. Алихан Бокейхан, д. 11 к1', 'Средняя школа №45\\nШколы', 'Kid’s Premium\\nДетские сады'], ['37 000 000 ₸', '3-комн.', '86 м²', 'современный ремонт', '2009', '8 из 13', 'монолитные', '2.7 м', 'раздельный', '3 км ', 'ул. Алматы, д. 13', 'Экономический лицей\\nШколы', ''], ['32 800 000 ₸', '3-комн.', '77.6 м²', 'современный ремонт', '2018', '9 из 9', 'кирпичные', '2.7 м', 'да', '3.4 км ', 'ул. Кошкарбаева, д. 25', 'Школа-лицей №72\\nШколы', 'Жансая, детский сад №83\\nДетские сады'], ['25 000 000 ₸', '3-комн.', '63 м²', 'косметический ремонт', '1990', '5 из 5', 'панельные', '2.6 м', 'раздельный', '3.8 км ', 'ул. Кайрата Рыскулбекова, д. 11 к2', 'Школа-лицей №37 им. С. Мауленова\\nШколы', 'Алан, детский сад\\nДетские сады'], ['36 000 000 ₸', '3-комн.', '66.2 м²', 'косметический ремонт', '2013', '4 из 9', 'кирпичные', '2.5 м', 'раздельный', '2.6 км ', 'ул. Сауран, д. 6', 'Школа-лицей №59\\nШколы', 'ABC, частный детский сад\\nДетские сады'], ['11 400 000 ₸', '1-комн.', '38 м²', 'улучшенная черновая отделка', '2022', '2 из 9', 'кирпичные', '2.7 м', 'раздельный', '8.2 км ', 'ул. Аманжол Болекпаев', 'АҚҚАНАТ, детский сад №59\\nДетские сады', 'Технический колледж\\nВузы и ссузы'], ['12 800 000 ₸', '1-комн.', '31.3 м²', 'современный ремонт', '1967', '3 из 5', 'панельные', '2.5 м', 'раздельный', '6.6 км ', 'ул. Гете, д. 1', 'Средняя школа №25\\nШколы', 'Аружан, \\ufeffдетский сад №4\\nДетские сады'], ['23 500 000 ₸', '1-комн.', '39.7 м²', 'современный ремонт', '2022', '3 из 15', 'блочные', '3 м', 'раздельный', '3 км ', 'ул. Кошкарбаева, д. 13', 'Школа-лицей №72\\nШколы', 'Diana, детский сад\\nДетские сады'], ['14 400 000 ₸', '2-комн.', '38 м²', 'косметический ремонт', '1970', '4 из 5', 'блочные', '2.5 м', 'раздельный', '4.2 км ', 'ул. Жангельдина, д. 6', 'Школа-гимназия №2 им. Гафу Каирбекова\\nШколы', ''], ['21 800 000 ₸', '1-комн.', '40 м²', 'современный ремонт', '2009', '11 из 13', 'монолитные', '2.7 м', 'раздельный', '3 км ', 'ул. Алматы, д. 13', 'Экономический лицей\\nШколы', 'Алақай\\nДетские сады'], ['21 500 000 ₸', '1-комн.', '38.6 м²', 'ремонт по дизайн - проекту', '2022', '2 из 10', 'кирпичные', '3 м', 'раздельный', '5.3 км ', 'ул. Култегин, д. 9', 'Школа-лицей №71\\nШколы', ''], ['13 400 000 ₸', '1-комн.', '39.48 м²', 'улучшенная черновая отделка', '2022', '3 из 9', 'монолитные', '2.8 м', 'раздельный', '8.2 км ', 'ул. Нажимеденов', 'АҚҚАНАТ, детский сад №59\\nДетские сады', 'Технический колледж\\nВузы и ссузы'], ['35 500 000 ₸', '3-комн.', '86 м²', 'косметический ремонт', '2019', '1 из 12', 'монолитные', '2.8 м', 'раздельный', '5.7 км ', 'ул. Сыганак, д. 1', 'Школа-лицей №71\\nШколы', 'Құлыншақ, детский сад №70\\nДетские сады'], ['22 500 000 ₸', '1-комн.', '46.7 м²', 'косметический ремонт', '2009', '13 из 16', 'монолитно-каркасные', '2.7 м', 'раздельный', '2.5 км ', 'ул. Иманова, д. 26', 'Школа-лицей №54\\nШколы', ''], ['125 000 000 ₸', '4-комн.', '173.5 м²', 'ремонт по дизайн - проекту', '2006', '16 из 16', 'монолитно-каркасные', '3 м', 'раздельный', '3.1 км ', 'ул. Отырар, д. 4 к2', 'Школа-гимназия №31\\nШколы', 'БАҚЫТ МЕКЕНІ, детский сад\\nДетские сады'], ['20 500 000 ₸', '2-комн.', '56.9 м²', 'ремонт по дизайн - проекту', '2011', '3 из 5', 'кирпичные', '2.7 м', 'совмещенный', '16.4 км ', 'ул. Лесная Поляна (п.Косшы), д. 9', 'Косшынская средняя школа №2\\nШколы', ''], ['33 000 000 ₸', '2-комн.', '73.7 м²', 'современный ремонт', '2017', '15 из 18', 'монолитные', '2.7 м', 'да', '3 км ', 'ул. Кошкарбаева, д. 32л', 'Школа-лицей №72\\nШколы', 'Diana, детский сад\\nДетские сады'], ['20 300 000 ₸', '1-комн.', '40 м²', 'косметический ремонт', '2015', '6 из 14', 'монолитные', '2.5 м', 'раздельный', '6.1 км ', 'ул. Чингиз Айтматов, д. 27', 'Школа-гимназия №78\\nШколы', 'Ma zaika, детский сад\\nДетские сады'], ['25 000 000 ₸', '2-комн.', '59.2 м²', 'современный ремонт', '2009', '16 из 17', 'монолитные', '2.7 м', 'совмещенный', '2.6 км ', 'ул. Бауржан Момышулы, д. 27', 'Школа-гимназия №51\\nШколы', 'Керемет, детский сад\\nДетские сады'], ['55 000 000 ₸', '3-комн.', '130 м²', 'косметический ремонт', '2021', '2 из 9', 'кирпичные', '3 м', 'раздельный', '3.1 км ', 'ул. Нажимеденов, д. 16', 'Школа-лицей №72\\nШколы', 'Мерей-2, детский сад\\nДетские сады'], ['52 500 000 ₸', '3-комн.', '94.5 м²', 'современный ремонт', '2018', '14 из 15', 'блочные', '2.5 м', 'раздельный', '4.1 км ', 'ул. Кабанбай батыра пр, д. 48Б', 'Школа-лицей №89\\nШколы', 'Bambini-club, частный детский сад\\nДетские сады'], ['21 000 000 ₸', '2-комн.', '54.6 м²', 'косметический ремонт', '2010', '8 из 25', 'монолитные', '2.7 м', 'раздельный', '2.9 км ', 'ул. Абая просп, д. 92 к1', 'Средняя школа №16 им. Т. Айбергенова\\nШколы', 'Шағала, детский сад №16\\nДетские сады'], ['19 500 000 ₸', '1-комн.', '43.3 м²', 'современный ремонт', '2014', '9 из 10', 'кирпичные', '3 м', 'совмещенный', '1.7 км ', 'ул. Тауелсыздык проспект, д. 38 к2', 'Школа-лицей №70\\nШколы', 'БАЛ-АЛТЫНЫМ, частный детский сад\\nДетские сады'], ['49 900 000 ₸', '3-комн.', '119.3 м²', 'современный ремонт', '2018', '6 из 7', 'кирпичные', '3 м', 'раздельный', '5 км ', 'ул. Темирбека Жургенова, д. 18', 'Школа-гимназия №86\\nШколы', 'Altyn-Ai, детский сад\\nДетские сады'], ['23 400 000 ₸', '2-комн.', '45.4 м²', 'современный ремонт', '2020', '2 из 10', 'кирпичные', '2.8 м', 'да', '8.2 км ', 'ул. Кошкарбаева', 'АҚҚАНАТ, детский сад №59\\nДетские сады', 'Технический колледж\\nВузы и ссузы'], ['25 500 000 ₸', '2-комн.', '57 м²', 'улучшенная черновая отделка', '2022', '10 из 12', 'кирпичные', '2.5 м', 'раздельный', '8.2 км ', 'ул. Калдаякова', 'АҚҚАНАТ, детский сад №59\\nДетские сады', 'Технический колледж\\nВузы и ссузы'], ['15 500 000 ₸', '1-комн.', '38 м²', 'косметический ремонт', '2011', '3 из 5', 'кирпичные', '2.5 м', 'раздельный', '4.2 км ', 'ул. Манаса, д. 20 к2', 'Школа-лицей №64\\nШколы', 'Дневная мама, частный детский сад\\nДетские сады'], ['19 400 000 ₸', '1-комн.', '31.8 м²', 'современный ремонт', '2022', '13 из 13', 'кирпичные', '2.8 м', 'да', '1.7 км ', 'ул. Тауелсыздык проспект, д. 34 к9', 'Школа-лицей №53 им. Б. Момышұлы\\nШколы', 'Карим, детский сад\\nДетские сады'], ['18 000 000 ₸', '1-комн.', '38.4 м²', 'современный ремонт', '2018', '9 из 10', 'сборно-монолитный железобетонный каркас', '2.5 м', 'раздельный', '4.2 км ', 'ул. Темирбека Жургенова, д. 34', 'Школа-гимназия №74, им. М.Макатаева\\nШколы', 'Шұғыла, ясли-сад №67\\nДетские сады'], ['24 500 000 ₸', '2-комн.', '60.5 м²', 'косметический ремонт', '2015', '10 из 18', 'монолитные', '2.5 м', 'да', '5 км ', 'ул. Калибек Куанышбаев, д. 14', 'Школа-гимназия №65\\nШколы', ''], ['22 400 000 ₸', '3-комн.', '60 м²', 'косметический ремонт', '1965', '3 из 5', 'керамзитобетонные блоки', '2.5 м', 'раздельный', '1.9 км ', 'ул. Пушкина, д. 7', 'Гимназия №5\\nШколы', 'Ақ көгершін, детский сад №48\\nДетские сады'], ['12 500 000 ₸', '1-комн.', '39 м²', 'улучшенная черновая отделка', '2023', '1 из 9', 'блочные', '2.8 м', 'раздельный', '6.8 км ', 'ул. Е-128, д. 5', 'Гимназия №90 им. Қайыма Мұхамедханова\\nШколы', 'Medina, частный детский сад\\nДетские сады'], ['18 400 000 ₸', '1-комн.', '36.6 м²', 'улучшенная черновая отделка', '2021', '9 из 13', 'монолитные', '2.5 м', 'раздельный', '4.2 км ', 'ул. Туран пр, д. 59 к2', 'Даулет, детский сад\\nДетские сады', ''], ['18 900 000 ₸', '1-комн.', '37.2 м²', 'современный ремонт', '2017', '10 из 12', 'монолитные', '2.5 м', 'раздельный', '3.7 км ', 'ул. Кошкарбаева, д. 50', 'Школа-гимназия №83\\nШколы', 'Мөлдір, детский сад №71\\nДетские сады'], ['32 400 000 ₸', '3-комн.', '76.7 м²', 'современный ремонт', '2012', '8 из 9', 'монолитно-кирпичный', '2.5 м', 'раздельный', '4.6 км ', 'ул. Кайрата Рыскулбекова, д. 16 к1', 'Школа-лицей №64\\nШколы', 'Жанұя, детский сад\\nДетские сады'], ['29 990 000 ₸', '2-комн.', '64.24 м²', 'улучшенная черновая отделка', '2023', '4 из 16', 'монолитно-каркасные', '3 м', 'раздельный', '5.4 км ', 'ул. Ильяс Омаров, д. 2 к1', 'Школа-лицей №71\\nШколы', 'Inclusion\\nДетские сады'], ['14 000 000 ₸', '1-комн.', '31 м²', 'косметический ремонт', '1977', '5 из 6', 'монолитные', '2.7 м', 'раздельный', '5 км ', 'ул. Жансугурулы, д. 4 к3', 'Школа-лицей №60\\nШколы', ''], ['33 500 000 ₸', '3-комн.', '92 м²', 'косметический ремонт', '2009', '7 из 10', 'монолитные', '2.7 м', 'раздельный', '3.1 км ', 'ул. Сембинова, д. 9', 'Специальная школа №3\\nШколы', 'Зере\\nДетские сады'], ['19 000 000 ₸', '1-комн.', '42.3 м²', 'современный ремонт', '2012', '4 из 6', 'монолитно-кирпичный', '2.7 м', 'раздельный', '4.4 км ', 'ул. Кенена Азирбаева, д. 2', 'Школа-гимназия №74, им. М.Макатаева\\nШколы', 'Шұғыла, ясли-сад №67\\nДетские сады'], ['34 500 000 ₸', '2-комн.', '85 м²', 'современный ремонт', '2007', '2 из 9', 'блочные', '3 м', 'раздельный', '2.5 км ', 'ул. Сыганак, д. 33', 'Школа-лицей №59\\nШколы', 'Happy baby Astana\\nДетские сады'], ['25 000 000 ₸', '2-комн.', '44 м²', 'современный ремонт', '2018', '2 из 10', 'сборно-монолитный железобетонный каркас', '3 м', 'раздельный', '5.3 км ', 'ул. Ильяс Омаров, д. 23', 'СПЕЦИАЛИЗИРОВАННАЯ ГИМНАЗИЯ № 81 ASTANA ENGLISH SCHOOL\\nШколы', ''], ['35 000 000 ₸', '3-комн.', '70 м²', 'современный ремонт', '2022', '8 из 22', 'монолитные', '2.7 м', 'да', '3.9 км ', 'ул. Абикен Бектуров, д. 4 к1', 'Ananas, частный детский сад\\nДетские сады', 'Детская площадка\\nДетские площадки'], ['10 500 000 ₸', '1-комн.', '32.9 м²', 'косметический ремонт', '1987', '3 из 4', 'кирпичные', '2.65 м', 'раздельный', '4.8 км ', 'ул. Аль-Фараби, д. 37', 'Айналайын\\nДетские сады', ''], ['14 400 000 ₸', '2-комн.', '45 м²', 'косметический ремонт', '1970', '5 из 5', 'панельные', '2.5 м', 'раздельный', '6.1 км ', 'ул. Потанина, д. 20', 'Вечерняя сменная школа №39\\nШколы', 'Ботакан, частный детский сад\\nДетские сады'], ['13 500 000 ₸', '2-комн.', '50 м²', 'косметический ремонт', '1957', '2 из 2', 'кирпичные', '3 м', 'раздельный', '6.5 км ', 'ул. Акбугы, д. 4', 'Средняя школа №36\\nШколы', 'Көктем, детский сад №6\\nДетские сады'], ['33 900 000 ₸', '3-комн.', '73.3 м²', 'косметический ремонт', '2015', '15 из 15', 'монолитные', '2.7 м', 'раздельный', '4.1 км ', 'ул. Кошкарбаева, д. 45', 'Школа-гимназия №74, им. М.Макатаева\\nШколы', 'Даржан, детский сад\\nДетские сады'], ['27 400 000 ₸', '2-комн.', '74.1 м²', 'ремонт по дизайн - проекту', '2011', '4 из 5', 'кирпичные', '3.2 м', 'совмещенный', '5.7 км ', 'ул. Тлендиева пр, д. 1 к2', 'Школа-гимназия №65\\nШколы', ''], ['23 000 000 ₸', '1-комн.', '38 м²', 'современный ремонт', '2021', '2 из 9', 'блочные', '2.7 м', 'раздельный', '4 км ', 'ул. Толе би, д. 46', 'Astana Garden School, частная школа\\nШколы', 'Happy Home, образовательный детский сад\\nДетские сады'], ['19 500 000 ₸', '2-комн.', '56.2 м²', 'современный ремонт', '2007', '5 из 5', 'блочные', '2.7 м', 'раздельный', '7.2 км ', 'ул. Куляш Байсеитова, д. 8', 'Школа-гимназия №26\\nШколы', 'Абай, частный детский сад\\nДетские сады'], ['10 990 000 ₸', '2-комн.', '33.3 м²', 'косметический ремонт', '1979', '1 из 5', 'кирпичные', '2.5 м', 'раздельный', '4.5 км ', 'ул. Шакена Айманова, д. 20', 'Школа-гимназия №7 им. Гали Орманова\\nШколы', 'Балауса, детский сад №27\\nДетские сады'], ['9 000 000 ₸', '1-комн.', '26.3 м²', 'черновая отделка', '2002', '1 из 3', 'панельные', '2.5 м', 'раздельный', '5.4 км ', 'ул. Алия Молдагулова, д. 37 к1', 'Школа-лицей №62\\nШколы', 'Aliya, частный детский сад\\nДетские сады'], ['20 500 000 ₸', '1-комн.', '42.9 м²', 'современный ремонт', '2023', '9 из 17', 'монолитные', '3 м', 'раздельный', '6.3 км ', 'ул. Нажимеденов, д. 29 к2', 'BINOM SCHOOL, школа-лицей\\nШколы', ''], ['26 000 000 ₸', '2-комн.', '48 м²', 'современный ремонт', '2021', '4 из 9', 'блочные', '2.7 м', 'да', '4 км ', 'ул. Толе би, д. 46', 'Astana Garden School, частная школа\\nШколы', 'Happy Home, образовательный детский сад\\nДетские сады'], ['23 400 000 ₸', '2-комн.', '56.3 м²', 'черновая отделка', '2023', '7 из 9', 'кирпичные', '3 м', 'раздельный', '6.2 км ', 'ул. Туран пр', 'Kidz n`totz\\nДетские сады', 'Назарбаев Университет\\nВузы и ссузы'], ['12 500 000 ₸', '1-комн.', '30.2 м²', 'косметический ремонт', '1961', '5 из 5', 'кирпичные', '2.5 м', 'раздельный', '4.8 км ', 'ул. Бейбитшилик, д. 44', 'Школа-лицей №62\\nШколы', 'Арайлым, детский сад №20\\nДетские сады'], ['22 400 000 ₸', '2-комн.', '63 м²', 'косметический ремонт', '2010', '7 из 12', 'монолитные', '2.7 м', 'раздельный', '4.4 км ', 'ул. Дукенулы, д. 38', 'Школа-гимназия №7 им. Гали Орманова\\nШколы', 'Алдар көсе\\nДетские сады'], ['34 000 000 ₸', '2-комн.', '65 м²', 'косметический ремонт', '2022', '7 из 18', 'блочные', '3 м', 'раздельный', '3.8 км ', 'ул. Кенесары, д. 4А', 'Келешек, частная школа\\nШколы', 'Ақжелкен, частный детский сад\\nДетские сады']]\n"
     ]
    }
   ],
   "source": [
    "\n",
    "print(dataset)"
   ]
  },
  {
   "cell_type": "code",
   "execution_count": 117,
   "id": "b3a3421d",
   "metadata": {},
   "outputs": [
    {
     "name": "stdout",
     "output_type": "stream",
     "text": [
      "//*[@id=\"Paginator_UHMdaylxvP\"]/div/ul/li[2]/button\n"
     ]
    }
   ],
   "source": [
    "print('//*[@id=\"Paginator_UHMdaylxvP\"]/div/ul/li[{}]/button'.format(2))"
   ]
  },
  {
   "cell_type": "code",
   "execution_count": 119,
   "id": "fab0ccf9",
   "metadata": {},
   "outputs": [
    {
     "name": "stdout",
     "output_type": "stream",
     "text": [
      "1\n",
      "2\n",
      "3\n",
      "4\n",
      "5\n",
      "6\n",
      "7\n",
      "8\n",
      "9\n",
      "10\n",
      "11\n",
      "12\n",
      "13\n",
      "14\n",
      "15\n",
      "16\n",
      "17\n",
      "18\n",
      "19\n",
      "20\n",
      "21\n",
      "22\n",
      "23\n",
      "24\n",
      "25\n",
      "26\n",
      "27\n",
      "28\n",
      "29\n",
      "30\n",
      "4\n",
      "1\n",
      "2\n",
      "3\n",
      "4\n",
      "5\n",
      "6\n",
      "7\n",
      "8\n",
      "9\n",
      "10\n",
      "11\n",
      "12\n",
      "13\n",
      "14\n",
      "15\n",
      "16\n",
      "17\n",
      "18\n",
      "19\n",
      "20\n",
      "21\n",
      "22\n",
      "23\n",
      "24\n",
      "25\n",
      "26\n",
      "27\n",
      "28\n",
      "29\n",
      "30\n",
      "5\n"
     ]
    }
   ],
   "source": [
    "for i in range(2,4):\n",
    "    for x in range(30):\n",
    "        print(x+1)\n",
    "    print(i+2)"
   ]
  },
  {
   "cell_type": "code",
   "execution_count": 132,
   "id": "82dee039",
   "metadata": {},
   "outputs": [
    {
     "name": "stdout",
     "output_type": "stream",
     "text": [
      "36\n"
     ]
    }
   ],
   "source": [
    "print(len(lst))"
   ]
  },
  {
   "cell_type": "code",
   "execution_count": 57,
   "id": "5a048975",
   "metadata": {},
   "outputs": [
    {
     "name": "stdout",
     "output_type": "stream",
     "text": [
      "['https://astana.etagi.com/realty/8879907/', 'https://astana.etagi.com/realty/8871320/', 'https://astana.etagi.com/realty/9165128/', 'https://astana.etagi.com/realty/8936030/', 'https://astana.etagi.com/realty/8914640/', 'https://astana.etagi.com/realty/5497189/']\n"
     ]
    }
   ],
   "source": [
    "url2 = 'https://astana.etagi.com/realty/'\n",
    "driver2= webdriver.Chrome()\n",
    "driver2.maximize_window()\n",
    "driver2.get(url2)\n",
    "driver2.execute_script(\"window.scrollBy(0,500)\",\"\")\n",
    "lst2 = []\n",
    "links = driver2.find_elements_by_class_name('templates-object-card__slider')\n",
    "for i in links:\n",
    "    lst2.append(i.get_attribute('href'))\n",
    "print(lst2)"
   ]
  },
  {
   "cell_type": "code",
   "execution_count": null,
   "id": "55685154",
   "metadata": {},
   "outputs": [],
   "source": []
  },
  {
   "cell_type": "code",
   "execution_count": 128,
   "id": "7e6f3e84",
   "metadata": {},
   "outputs": [],
   "source": [
    "url4 = 'https://2gis.kz/astana?m=71.430519%2C51.134659%2F16.95'\n",
    "driver4= webdriver.Chrome()\n",
    "driver4.get(url4)\n",
    "\n",
    "sendA = driver4.find_element_by_xpath('//*[@id=\"root\"]/div/div/div[1]/div[1]/div[2]/div/div/div[1]/div/div/div/div/div[2]/form/div/input')\n",
    "sendA.send_keys('сарайшык 9')\n",
    "sendA.submit()\n",
    "\n",
    "\n",
    "#sendB = driver4.find_element_by_xpath('//*[@id=\"root\"]/div/div/div[1]/div[1]/div[2]/div/div/div/div/div/div[1]/div/div[2]/div/div/div[1]/div[2]/div/div/div[2]/div/input')\n",
    "#sendB.send_keys('школа рядом')\n",
    "#time.sleep(2)\n",
    "#ocenka = driver4.find_element_by_xpath('//*[@id=\"root\"]/div/div/div[1]/div[1]/div[2]/div/div/div[2]/div/div/div/div[2]/div[2]/div[1]/div/div/div/div[2]/div/div[1]/div/div[3]/div/div[2]').text\n",
    "\n"
   ]
  },
  {
   "cell_type": "code",
   "execution_count": 179,
   "id": "bf98ded5",
   "metadata": {},
   "outputs": [
    {
     "name": "stdout",
     "output_type": "stream",
     "text": [
      "['ул. Тлендиева пр, д. 16 к1', 'ул. Беимбет Майлин, д. 23', 'ул. Кенесары, д. 4А']\n"
     ]
    }
   ],
   "source": [
    "print(lst)"
   ]
  },
  {
   "cell_type": "code",
   "execution_count": 109,
   "id": "c0450436",
   "metadata": {},
   "outputs": [
    {
     "name": "stdout",
     "output_type": "stream",
     "text": [
      "6.6 км \n"
     ]
    }
   ],
   "source": [
    "for ind, ch in enumerate(dist_to_centre):\n",
    "    if ch == '(':\n",
    "        sign_pos = ind\n",
    "    if ch == 'д':\n",
    "        sign_pos2 = ind\n",
    "        \n",
    "dist_to_centre = dist_to_centre[sign_pos+1 : sign_pos2]\n",
    "print(dist_to_centre)"
   ]
  },
  {
   "cell_type": "code",
   "execution_count": 111,
   "id": "91c91724",
   "metadata": {},
   "outputs": [
    {
     "name": "stdout",
     "output_type": "stream",
     "text": [
      "Талапкерский\n"
     ]
    }
   ],
   "source": [
    "url3 = 'https://astana.etagi.com/realty/?newcomplex_id[]=1053'\n",
    "driver3= webdriver.Chrome()\n",
    "driver3.get(url3)\n",
    "\n",
    "address = driver3.find_element_by_xpath('//*[@id=\"content\"]/main/div[1]/div[1]/div/div/div[3]/div/div/div[1]').text\n",
    "print(address)"
   ]
  },
  {
   "cell_type": "code",
   "execution_count": 78,
   "id": "3c2ed8aa",
   "metadata": {},
   "outputs": [
    {
     "name": "stdout",
     "output_type": "stream",
     "text": [
      "3.5\n"
     ]
    }
   ],
   "source": [
    "url2 = 'https://2gis.kz/astana/branches/70000001021665778/firm/70000001021665779/tab/reviews'\n",
    "driver2= webdriver.Chrome()\n",
    "driver2.get(url2)\n",
    "\n",
    "rating2 = driver2.find_element_by_xpath('//*[@id=\"root\"]/div/div/div[1]/div[1]/div[2]/div[2]/div/div/div/div/div[2]/div[2]/div/div[1]/div/div/div/div/div[1]/div[4]/div/div[2]').text\n",
    "print(rating2)"
   ]
  },
  {
   "cell_type": "code",
   "execution_count": 72,
   "id": "e84e13ed",
   "metadata": {},
   "outputs": [
    {
     "name": "stdout",
     "output_type": "stream",
     "text": [
      "<class 'str'>\n"
     ]
    }
   ],
   "source": [
    "print(type(time_to_school))\n",
    "#//*[@id=\"characteristics\"]/div/div/div[3]/ul/li[1]/span[2]\n",
    "#//*[@id=\"characteristics\"]/div/div/div[3]/ul\n",
    "#//*[@id=\"characteristics\"]/div/div/button"
   ]
  },
  {
   "cell_type": "code",
   "execution_count": null,
   "id": "5d4995d1",
   "metadata": {},
   "outputs": [],
   "source": [
    "//*[@id=\"characteristics\"]/div/div/div[11]/ul\n",
    "//*[@id=\"characteristics\"]/div/div/div[3]/ul\n",
    "//*[@id=\"characteristics\"]/div/div/div[4]/ul\n",
    "//*[@id=\"characteristics\"]/div/div/div[4]/ul/li[2]/span[2]"
   ]
  }
 ],
 "metadata": {
  "kernelspec": {
   "display_name": "Python 3 (ipykernel)",
   "language": "python",
   "name": "python3"
  },
  "language_info": {
   "codemirror_mode": {
    "name": "ipython",
    "version": 3
   },
   "file_extension": ".py",
   "mimetype": "text/x-python",
   "name": "python",
   "nbconvert_exporter": "python",
   "pygments_lexer": "ipython3",
   "version": "3.9.13"
  }
 },
 "nbformat": 4,
 "nbformat_minor": 5
}
