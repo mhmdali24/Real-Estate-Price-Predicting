{
 "cells": [
  {
   "cell_type": "code",
   "execution_count": 2,
   "metadata": {},
   "outputs": [],
   "source": [
    "import requests\n",
    "from bs4 import BeautifulSoup as bs"
   ]
  },
  {
   "cell_type": "code",
   "execution_count": 25,
   "metadata": {},
   "outputs": [],
   "source": [
    "#URL = 'https://krisha.kz/prodazha/kvartiry/astana-esilskij/?das[_sys.hasphoto]=1&das[house.year][from]=2016&das[house.year][to]=2021&das[live.rooms]=2&das[novostroiki]=1&das[who]=1'\n",
    "\n",
    "#r = requests.get(URL)\n",
    "\n",
    "#soup = bs(r.content)\n",
    "#contents = soup.prettify()\n",
    "#print(contents)"
   ]
  },
  {
   "cell_type": "code",
   "execution_count": 20,
   "metadata": {},
   "outputs": [],
   "source": [
    "def get_info(url):\n",
    "    r = requests.get(url)\n",
    "    #Convert to a beautifulsoup object\n",
    "    soup = bs(r.content)\n",
    "    \n",
    "    all_info = []\n",
    "    \n",
    "    price = soup.find(class_='offer__price').get_text(' ', strip=True).replace('\\xa0', '')\n",
    "    \n",
    "    if price[0] == 'о':\n",
    "        price = price[3:11]\n",
    "    else:\n",
    "        price = price[:8]\n",
    "    all_info.append(int(price))\n",
    "    \n",
    "    area = soup.find_all(class_='offer__advert-short-info')\n",
    "    for a in area:\n",
    "        x = a.get_text()\n",
    "        if x[-2:] == 'м²':\n",
    "            all_info.append(x)\n",
    "    \n",
    "    const_year = soup.find_all(class_='offer__advert-short-info')\n",
    "    for a in const_year:\n",
    "        x = a.get_text()\n",
    "        if x[:2] == '20':\n",
    "            all_info.append(int(x))\n",
    "    \n",
    "    address_dict = {}\n",
    "    \n",
    "    address_key = soup.find_all(class_='offer__info-title')\n",
    "    address_val = soup.find_all(class_='offer__advert-short-info')\n",
    "    \n",
    "    for index, key in enumerate(address_key):\n",
    "        key1 = key.get_text()\n",
    "        val = address_val[index].get_text()\n",
    "        address_dict[key1] = val\n",
    "    \n",
    "    all_info.append(address_dict['Жилой комплекс'])\n",
    "    \n",
    "    \n",
    "    return all_info"
   ]
  },
  {
   "cell_type": "code",
   "execution_count": 111,
   "metadata": {},
   "outputs": [
    {
     "name": "stdout",
     "output_type": "stream",
     "text": [
      "[32368400, '85.18 м²', 2018, 'Коркем Tower']\n",
      "[34900000, '55 м²', 2021, 'Варшава']\n"
     ]
    }
   ],
   "source": [
    "#print(get_info('https://krisha.kz/a/show/51022754'))\n",
    "#print(get_info('https://krisha.kz/a/show/675595376'))"
   ]
  },
  {
   "cell_type": "code",
   "execution_count": 21,
   "metadata": {},
   "outputs": [],
   "source": [
    "def func(links):\n",
    "    base_path = 'https://krisha.kz'\n",
    "\n",
    "    dataset = []\n",
    "    for index, link in enumerate(links):\n",
    "        \n",
    "        try:\n",
    "            relative_path = link\n",
    "            full_path = base_path + relative_path\n",
    "            dataset.append(get_info(full_path))\n",
    "    \n",
    "        except Exception as e:\n",
    "            continue\n",
    "    return dataset"
   ]
  },
  {
   "cell_type": "code",
   "execution_count": 118,
   "metadata": {},
   "outputs": [
    {
     "name": "stdout",
     "output_type": "stream",
     "text": [
      "[[32368400, '85.18 м²', 2018, 'Коркем Tower'], [21916950, '53.85 м²', 2018, 'Aq-Didar'], [33747800, '88.81 м²', 2018, 'Коркем Tower'], [22368720, '54.96 м²', 2018, 'Aq-Didar'], [41580000, '69.3 м²', 2021, 'Landmark'], [38000000, '64 м²', 2016, 'Expo Boulevard'], [29900000, '64 м², кухня — 10.2 м²', 2021, 'Tole Bi'], [55500000, '80 м²', 2016, 'Arnau Premium'], [22840840, '56.12 м²', 2018, 'Aq-Didar'], [42024000, '70.04 м²', 2021, 'Landmark'], [34900000, '55 м²', 2021, 'Варшава'], [29900000, '60 м², кухня — 11 м²', 2016, 'Family Town'], [33500000, '66.7 м², кухня — 14.1 м²', 2021, 'Capital Park'], [34000000, '65 м², кухня — 12 м²', 2021, 'Tole Bi'], [23475760, '57.68 м²', 2018, 'Aq-Didar']]\n"
     ]
    }
   ],
   "source": [
    "print(func(links))"
   ]
  },
  {
   "cell_type": "code",
   "execution_count": 27,
   "metadata": {},
   "outputs": [],
   "source": [
    "url1 = 'https://krisha.kz/prodazha/kvartiry/astana-esilskij/?das[_sys.hasphoto]=1&das[house.year][from]=2016&das[house.year][to]=2021&das[live.rooms]=2&das[novostroiki]=1&das[who]=1'\n",
    "url2 = 'https://krisha.kz/prodazha/kvartiry/astana-esilskij/?das[_sys.hasphoto]=1&das[house.year][from]=2016&das[house.year][to]=2021&das[live.rooms]=2&das[novostroiki]=1&das[who]=1&page=2'\n",
    "url3 = 'https://krisha.kz/prodazha/kvartiry/astana-esilskij/?das[_sys.hasphoto]=1&das[house.year][from]=2016&das[house.year][to]=2021&das[live.rooms]=2&das[novostroiki]=1&das[who]=1&page=3'\n",
    "url4 = 'https://krisha.kz/prodazha/kvartiry/astana-esilskij/?das[_sys.hasphoto]=1&das[house.year][from]=2016&das[house.year][to]=2021&das[live.rooms]=2&das[novostroiki]=1&das[who]=1&page=4'\n",
    "url5 = 'https://krisha.kz/prodazha/kvartiry/astana-esilskij/?das[_sys.hasphoto]=1&das[house.year][from]=2016&das[house.year][to]=2021&das[live.rooms]=2&das[novostroiki]=1&das[who]=1&page=5'"
   ]
  },
  {
   "cell_type": "code",
   "execution_count": 28,
   "metadata": {},
   "outputs": [],
   "source": [
    "url6 = 'https://krisha.kz/prodazha/kvartiry/astana-esilskij/?das[_sys.hasphoto]=1&das[house.year][from]=2016&das[house.year][to]=2021&das[live.rooms]=2&das[novostroiki]=1&das[who]=1&page=6'\n",
    "url7 = 'https://krisha.kz/prodazha/kvartiry/astana-esilskij/?das[_sys.hasphoto]=1&das[house.year][from]=2016&das[house.year][to]=2021&das[live.rooms]=2&das[novostroiki]=1&das[who]=1&page=7'\n",
    "url8 = 'https://krisha.kz/prodazha/kvartiry/astana-esilskij/?das[_sys.hasphoto]=1&das[house.year][from]=2016&das[house.year][to]=2021&das[live.rooms]=2&das[novostroiki]=1&das[who]=1&page=8'\n",
    "url9 = 'https://krisha.kz/prodazha/kvartiry/astana-esilskij/?das[_sys.hasphoto]=1&das[house.year][from]=2016&das[house.year][to]=2021&das[live.rooms]=2&das[novostroiki]=1&das[who]=1&page=9'\n",
    "url10 = 'https://krisha.kz/prodazha/kvartiry/astana-esilskij/?das[_sys.hasphoto]=1&das[house.year][from]=2016&das[house.year][to]=2021&das[live.rooms]=2&das[novostroiki]=1&das[who]=1&page=10'"
   ]
  },
  {
   "cell_type": "code",
   "execution_count": 29,
   "metadata": {},
   "outputs": [],
   "source": [
    "url11 = 'https://krisha.kz/prodazha/kvartiry/astana-esilskij/?das[_sys.hasphoto]=1&das[house.year][from]=2016&das[house.year][to]=2021&das[live.rooms]=2&das[novostroiki]=1&das[who]=1&page=11'\n",
    "url12 = 'https://krisha.kz/prodazha/kvartiry/astana-esilskij/?das[_sys.hasphoto]=1&das[house.year][from]=2016&das[house.year][to]=2021&das[live.rooms]=2&das[novostroiki]=1&das[who]=1&page=12'\n",
    "url13 = 'https://krisha.kz/prodazha/kvartiry/astana-esilskij/?das[_sys.hasphoto]=1&das[house.year][from]=2016&das[house.year][to]=2021&das[live.rooms]=2&das[novostroiki]=1&das[who]=1&page=13'\n",
    "url14 = 'https://krisha.kz/prodazha/kvartiry/astana-esilskij/?das[_sys.hasphoto]=1&das[house.year][from]=2016&das[house.year][to]=2021&das[live.rooms]=2&das[novostroiki]=1&das[who]=1&page=14'\n",
    "url15 = 'https://krisha.kz/prodazha/kvartiry/astana-esilskij/?das[_sys.hasphoto]=1&das[house.year][from]=2016&das[house.year][to]=2021&das[live.rooms]=2&das[novostroiki]=1&das[who]=1&page=15'"
   ]
  },
  {
   "cell_type": "code",
   "execution_count": 33,
   "metadata": {},
   "outputs": [],
   "source": [
    "url16 = 'https://krisha.kz/prodazha/kvartiry/astana-esilskij/?das[_sys.hasphoto]=1&das[house.year][from]=2016&das[house.year][to]=2021&das[live.rooms]=2&das[novostroiki]=1&das[who]=1&page=16'\n",
    "url17 = 'https://krisha.kz/prodazha/kvartiry/astana-esilskij/?das[_sys.hasphoto]=1&das[house.year][from]=2016&das[house.year][to]=2021&das[live.rooms]=2&das[novostroiki]=1&das[who]=1&page=17'\n",
    "url18 = 'https://krisha.kz/prodazha/kvartiry/astana-esilskij/?das[_sys.hasphoto]=1&das[house.year][from]=2016&das[house.year][to]=2021&das[live.rooms]=2&das[novostroiki]=1&das[who]=1&page=18'\n",
    "url19 = 'https://krisha.kz/prodazha/kvartiry/astana-esilskij/?das[_sys.hasphoto]=1&das[house.year][from]=2016&das[house.year][to]=2021&das[live.rooms]=2&das[novostroiki]=1&das[who]=1&page=19'\n",
    "url20 = 'https://krisha.kz/prodazha/kvartiry/astana-esilskij/?das[_sys.hasphoto]=1&das[house.year][from]=2016&das[house.year][to]=2021&das[live.rooms]=2&das[novostroiki]=1&das[who]=1&page=20'\n",
    "\n",
    "headers = {\"User-Agent\": \"Mozilla/5.0 (Windows NT 10.0; Win64; x64) AppleWebKit/537.36 (KHTML, like Gecko) Chrome/103.0.0.0 Safari/537.36\"}\n",
    "urls1 = [url1, url2]\n",
    "urls2 = [url3, url4]\n",
    "urls3 = [url5, url6]\n",
    "urls4 = [url7, url8]\n",
    "urls5 = [url9, url10]\n",
    "urls6 = [url11, url12]\n",
    "urls7 = [url13, url14]\n",
    "urls8 = [url15, url16]\n",
    "urls9 = [url17, url18]\n",
    "urls10 = [url19, url20]\n",
    "dataset = []\n",
    "\n",
    "for index, url in enumerate(urls1):\n",
    "    r1 = requests.get(url, headers=headers)\n",
    "\n",
    "    soup1 = bs(r1.content, 'html.parser')\n",
    "\n",
    "    ads = soup1.find_all(class_='a-card__title')\n",
    "\n",
    "    links = []\n",
    "    for ad in ads:\n",
    "        links.append(ad.get('href'))\n",
    "    \n",
    "    l1 = func(links)\n",
    "    dataset = dataset + l1\n",
    "    \n"
   ]
  },
  {
   "cell_type": "code",
   "execution_count": 34,
   "metadata": {},
   "outputs": [],
   "source": [
    "for index, url in enumerate(urls2):\n",
    "    r1 = requests.get(url, headers=headers)\n",
    "\n",
    "    soup1 = bs(r1.content, 'html.parser')\n",
    "\n",
    "    ads = soup1.find_all(class_='a-card__title')\n",
    "\n",
    "    links = []\n",
    "    for ad in ads:\n",
    "        links.append(ad.get('href'))\n",
    "    \n",
    "    l1 = func(links)\n",
    "    dataset = dataset + l1"
   ]
  },
  {
   "cell_type": "code",
   "execution_count": 35,
   "metadata": {},
   "outputs": [],
   "source": [
    "for index, url in enumerate(urls3):\n",
    "    r1 = requests.get(url, headers=headers)\n",
    "\n",
    "    soup1 = bs(r1.content, 'html.parser')\n",
    "\n",
    "    ads = soup1.find_all(class_='a-card__title')\n",
    "\n",
    "    links = []\n",
    "    for ad in ads:\n",
    "        links.append(ad.get('href'))\n",
    "    \n",
    "    l1 = func(links)\n",
    "    dataset = dataset + l1"
   ]
  },
  {
   "cell_type": "code",
   "execution_count": 36,
   "metadata": {},
   "outputs": [],
   "source": [
    "for index, url in enumerate(urls4):\n",
    "    r1 = requests.get(url)\n",
    "\n",
    "    soup1 = bs(r1.content)\n",
    "\n",
    "    ads = soup1.find_all(class_='a-card__title')\n",
    "\n",
    "    links = []\n",
    "    for ad in ads:\n",
    "        links.append(ad.get('href'))\n",
    "    \n",
    "    l1 = func(links)\n",
    "    dataset = dataset + l1"
   ]
  },
  {
   "cell_type": "code",
   "execution_count": 37,
   "metadata": {},
   "outputs": [],
   "source": [
    "for index, url in enumerate(urls5):\n",
    "    r1 = requests.get(url, headers=headers)\n",
    "\n",
    "    soup1 = bs(r1.content, 'html.parser')\n",
    "\n",
    "    ads = soup1.find_all(class_='a-card__title')\n",
    "\n",
    "    links = []\n",
    "    for ad in ads:\n",
    "        links.append(ad.get('href'))\n",
    "    \n",
    "    l1 = func(links)\n",
    "    dataset = dataset + l1"
   ]
  },
  {
   "cell_type": "code",
   "execution_count": 38,
   "metadata": {},
   "outputs": [],
   "source": [
    "for index, url in enumerate(urls6):\n",
    "    r1 = requests.get(url, headers=headers)\n",
    "\n",
    "    soup1 = bs(r1.content, 'html.parser')\n",
    "\n",
    "    ads = soup1.find_all(class_='a-card__title')\n",
    "\n",
    "    links = []\n",
    "    for ad in ads:\n",
    "        links.append(ad.get('href'))\n",
    "    \n",
    "    l1 = func(links)\n",
    "    dataset = dataset + l1"
   ]
  },
  {
   "cell_type": "code",
   "execution_count": 39,
   "metadata": {},
   "outputs": [],
   "source": [
    "for index, url in enumerate(urls7):\n",
    "    r1 = requests.get(url, headers=headers)\n",
    "\n",
    "    soup1 = bs(r1.content, 'html.parser')\n",
    "\n",
    "    ads = soup1.find_all(class_='a-card__title')\n",
    "\n",
    "    links = []\n",
    "    for ad in ads:\n",
    "        links.append(ad.get('href'))\n",
    "    \n",
    "    l1 = func(links)\n",
    "    dataset = dataset + l1"
   ]
  },
  {
   "cell_type": "code",
   "execution_count": 40,
   "metadata": {},
   "outputs": [],
   "source": [
    "for index, url in enumerate(urls8):\n",
    "    r1 = requests.get(url, headers=headers)\n",
    "\n",
    "    soup1 = bs(r1.content, 'html.parser')\n",
    "\n",
    "    ads = soup1.find_all(class_='a-card__title')\n",
    "\n",
    "    links = []\n",
    "    for ad in ads:\n",
    "        links.append(ad.get('href'))\n",
    "    \n",
    "    l1 = func(links)\n",
    "    dataset = dataset + l1"
   ]
  },
  {
   "cell_type": "code",
   "execution_count": 41,
   "metadata": {},
   "outputs": [],
   "source": [
    "for index, url in enumerate(urls9):\n",
    "    r1 = requests.get(url, headers=headers)\n",
    "\n",
    "    soup1 = bs(r1.content, 'html.parser')\n",
    "\n",
    "    ads = soup1.find_all(class_='a-card__title')\n",
    "\n",
    "    links = []\n",
    "    for ad in ads:\n",
    "        links.append(ad.get('href'))\n",
    "    \n",
    "    l1 = func(links)\n",
    "    dataset = dataset + l1"
   ]
  },
  {
   "cell_type": "code",
   "execution_count": 42,
   "metadata": {},
   "outputs": [],
   "source": [
    "for index, url in enumerate(urls10):\n",
    "    r1 = requests.get(url, headers=headers)\n",
    "\n",
    "    soup1 = bs(r1.content, 'html.parser')\n",
    "\n",
    "    ads = soup1.find_all(class_='a-card__title')\n",
    "\n",
    "    links = []\n",
    "    for ad in ads:\n",
    "        links.append(ad.get('href'))\n",
    "    \n",
    "    l1 = func(links)\n",
    "    dataset = dataset + l1"
   ]
  },
  {
   "cell_type": "code",
   "execution_count": 43,
   "metadata": {},
   "outputs": [
    {
     "name": "stdout",
     "output_type": "stream",
     "text": [
      "329\n"
     ]
    }
   ],
   "source": [
    "print(len(dataset))"
   ]
  },
  {
   "cell_type": "code",
   "execution_count": 44,
   "metadata": {},
   "outputs": [
    {
     "name": "stdout",
     "output_type": "stream",
     "text": [
      "[[29900000, '64 м², кухня — 10.2 м²', 2021, 'Tole Bi'], [55500000, '80 м²', 2016, 'Arnau Premium'], [43500000, '78.5 м²', 2020, 'Apple City'], [34900000, '55 м²', 2021, 'Варшава'], [42024000, '70.04 м²', 2021, 'Landmark'], [29900000, '60 м², кухня — 11 м²', 2016, 'Family Town'], [80000000, '70 м²', 2018, 'Итальянский квартал'], [33500000, '66.7 м², кухня — 14.1 м²', 2021, 'Capital Park'], [49000000, '71 м²', 2018, 'Panorama Park'], [36000000, '58 м²', 2017, 'Аруна'], [42990000, '65.3 м², жилая — 62.7 м², кухня — 11.12 м²', 2019, 'Orynbor Towers'], [42168000, '70.28 м²', 2021, 'Landmark'], [42000000, '47.5 м², кухня — 6 м²', 2018, 'Sauran Towers'], [19750000, '50 м²', 2021, 'ЮГ-1'], [28000000, '57 м², кухня — 11 м²', 2018, 'Aq-Didar'], [42576000, '70.96 м²', 2021, 'Landmark'], [31500000, '60 м², кухня — 15 м²', 2019, 'Комфорт De Luxe'], [32368400, '85.18 м²', 2018, 'Коркем Tower'], [48887740, '77.11 м²', 2021, 'Landmark'], [33747800, '88.81 м²', 2018, 'Коркем Tower'], [38500000, '62.8 м²', 2016, 'Коркем 2'], [30000000, '56.1 м², кухня — 9.1 м²', 2017, 'Nova City'], [21916950, '53.85 м²', 2018, 'Aq-Didar'], [26000000, '43 м²', 2021, 'Athletic'], [42500000, '57 м²', 2018, 'Park Avenue'], [22368720, '54.96 м²', 2018, 'Aq-Didar'], [27500000, '55.2 м², жилая — 53.8 м², кухня — 13.2 м²', 2017, 'Елорда Даму по Улы Дала'], [22840840, '56.12 м²', 2018, 'Aq-Didar'], [27700000, '59 м², кухня — 10 м²', 2021, 'Inju City'], [47000000, '58.1 м²', 2021, 'Варшава'], [23475760, '57.68 м²', 2018, 'Aq-Didar'], [28800000, '65 м², кухня — 12 м²', 2016, 'Есиль (Бокейхана, 17)'], [23950000, '43 м²', 2016, 'Куаныш'], [23950000, '43 м²', 2016, 'Куаныш'], [23585650, '57.95 м²', 2018, 'Aq-Didar'], [23610070, '58.01 м²', 2018, 'Aq-Didar'], [41580000, '69.3 м²', 2021, 'Landmark'], [38000000, '72 м², кухня — 19 м²', 2017, 'Аруна'], [40000000, '65 м², кухня — 10 м²', 2021, 'Alpamys'], [36500000, '62 м²', 2019, 'GreenLine.BI City Seoul'], [28000000, '62 м², кухня — 10 м²', 2016, 'Акку'], [39500000, '62 м², жилая — 34 м², кухня — 14 м²', 2020, 'Only Sun & Moon'], [31800000, '63.1 м²', 2018, 'Кристалл 2'], [31000000, '62.5 м², кухня — 16.9 м²', 2021, 'Кристалл 2'], [26500000, '59 м², кухня — 9.4 м²', 2019, 'Алтын Шар 1'], [24300000, '60 м²', 2021, 'Budapest'], [25999999, '42 м²', 2021, 'Athletic'], [25000000, '47 м², кухня — 20 м²', 2018, 'Тау'], [43000000, '70 м²', 2016, 'Нурлы Уя'], [30940590, '68.91 м²', 2021, 'Hokkaido'], [30940590, '68.91 м²', 2021, 'Hokkaido'], [53000000, '69.8 м², кухня — 14.1 м²', 2019, 'Dream City'], [32000000, '49 м²', 2017, 'Времена года. Зима'], [26500000, '58 м², жилая — 31 м², кухня — 10 м²', 2017, 'Елорда Даму по ул. Е16'], [43000000, '60.3 м²', 2017, 'Expo Plaza'], [39900000, '63 м², кухня — 11.2 м²', 2017, 'Expo Plaza'], [31500000, '74 м²', 2018, 'Алтын Шар 1'], [39800000, '45.2 м²', 2021, 'Коркем 4'], [32000000, '50 м²', 2021, 'Варшава'], [27900000, '60 м², кухня — 10 м²', 2021, 'Budapest'], [40900000, '57 м²', 2020, 'Panorama Park'], [32000000, '46.6 м², кухня — 6.5 м²', 2017, 'Orynbor Towers'], [74000000, '86 м²', 2020, 'ASTORIA'], [50000000, '57 м², жилая — 35 м², кухня — 10 м²', 2017, 'Park Avenue'], [28500000, '46.1 м², жилая — 28.7 м², кухня — 6 м²', 2020, 'College'], [25990000, '52 м²', 2020, 'Apple City'], [31000000, '63.7 м²', 2018, 'Citylake'], [32000000, '58.4 м²', 2017, 'Каратау'], [20900000, '51.9 м²', 2020, 'Уркер city'], [23700000, '52.4 м², кухня — 6.5 м²', 2021, 'Sat City'], [57000000, '62 м², кухня — 12 м²', 2018, 'Венский квартал'], [25000000, '45.4 м², жилая — 25.1 м², кухня — 6.7 м²', 2017, 'Nova City'], [31000000, '60 м², кухня — 13 м²', 2021, 'Алтын Шар 2'], [52000000, '72 м², кухня — 12.8 м²', 2019, 'Crocus City'], [40000000, '59 м²', 2016, 'Лазурный квартал'], [27000000, '60 м², кухня — 16 м²', 2016, 'Нурлы Уя'], [44500000, '68 м², кухня — 9.8 м²', 2021, 'Alpamys'], [32000000, '75.3 м², кухня — 14.3 м²', 2017, 'Citylake'], [23500000, '39 м²', 2021, 'Tole Bi'], [38000000, '73 м²', 2018, 'Кристалл'], [39900000, '63 м²', 2021, 'Bucharest'], [41000000, '61.5 м²', 2019, 'Коркем 3'], [36000000, '54.7 м², жилая — 32.4 м², кухня — 7.1 м²', 2017, 'Венский квартал'], [43000000, '64.5 м², жилая — 36.4 м², кухня — 12.6 м²', 2017, 'Expo New Life'], [38000000, '72 м², кухня — 13.5 м²', 2017, 'Аруна'], [31000000, '59 м², кухня — 8.8 м²', 2018, 'Алтын Шар 1'], [29500000, '82 м², жилая — 58 м², кухня — 12.5 м²', 2016, 'Жагалау 3'], [36000000, '70 м²', 2016, 'G-Park Family'], [31200000, '53 м², жилая — 33.6 м², кухня — 6 м²', 2018, 'Orynbor Towers'], [35000000, '51.5 м²', 2018, 'GreenLine.Зеленый квартал'], [32300000, '55.7 м², кухня — 9.7 м²', 2021, 'Alpamys'], [41000000, '72 м², кухня — 12 м²', 2016, 'Expo Residence'], [32300000, '48 м², кухня — 10 м²', 2021, 'Варшава'], [39500000, '65 м², кухня — 14 м²', 2020, 'Apple City'], [29000000, '47 м²', 2021, 'Alau'], [26000000, '56.6 м²', 2018, 'Кристалл'], [28500000, '50.4 м², кухня — 6 м²', 2021, 'Budapest'], [55500000, '64.1 м², жилая — 19.6 м², кухня — 11.7 м²', 2017, 'Венский квартал'], [37500000, '70 м², кухня — 12.7 м²', 2016, 'Арнау-3'], [26000000, '53 м²', 2019, 'Nova City'], [23500000, '48 м²', 2021, 'Budapest'], [32000000, '70 м², кухня — 13 м²', 2021, 'Меркурий'], [34900000, '57 м², кухня — 12.6 м²', 2018, 'Sauran Towers'], [30500000, '57 м², кухня — 12 м²', 2018, 'Nova City'], [45000000, '74.6 м², кухня — 14.9 м²', 2016, 'Авиценна-2'], [31500000, '60 м², кухня — 7 м²', 2021, 'Alpamys'], [18000000, '43 м², кухня — 12 м²', 2020, 'Астана'], [28300000, '58.7 м², кухня — 10 м²', 2021, 'Inju City'], [37500000, '72 м²', 2017, 'Аруна'], [23999000, '61.1 м², кухня — 10 м²', 2021, 'Ансар'], [36500000, '65 м², кухня — 10 м²', 2019, 'Кристалл 2'], [39000000, '76.2 м²', 2016, 'Авиценна-2'], [29000000, '50 м²', 2018, 'Smart City'], [32000000, '61.5 м², кухня — 12 м²', 2021, 'Athletic'], [29000000, '62.3 м², кухня — 10 м²', 2021, 'Inju City'], [39000000, '69.3 м², кухня — 12 м²', 2016, 'Арнау-3'], [29000000, '51 м²', 2021, 'Кристалл 2'], [43000000, '66 м²', 2019, 'Baspana'], [30000000, '63.4 м², кухня — 10 м²', 2017, 'Меркурий 2'], [26500000, '44.2 м²', 2017, 'Арнау-3'], [42000000, '69.09 м², кухня — 12 м²', 2021, 'Сердце Столицы'], [35000000, '60 м²', 2018, 'Aq-Didar'], [39900000, '63 м², кухня — 15 м²', 2020, 'Apple City'], [32700000, '60 м²', 2019, 'Алтын Шар 2'], [29500000, '49 м², кухня — 14.3 м²', 2020, 'Apple City'], [36000000, '47 м²', 2019, 'Dream City'], [39000000, '62 м², кухня — 9 м²', 2020, 'InjuArena'], [39000000, '67 м², кухня — 12.7 м²', 2017, 'Айнур Астана'], [26000000, '44 м², кухня — 7 м²', 2018, 'Nova City'], [35000000, '71 м², кухня — 10.7 м²', 2017, 'Саржайлау'], [35900000, '60 м², кухня — 13 м²', 2021, 'Sezim Qala.Baqyt'], [65000000, '75 м²', 2018, 'Венский квартал'], [39000000, '69.2 м², кухня — 12.2 м²', 2016, 'Expo Residence'], [43500000, '60 м², жилая — 58 м², кухня — 9 м²', 2016, 'Алтын-Арна'], [38000000, '61.5 м²', 2017, 'Expo Plaza'], [37000000, '76.4 м², кухня — 17.9 м²', 2016, 'Жайна'], [35400000, '69 м²', 2021, 'GreenLine.FreeDom'], [27000000, '44 м²', 2021, 'Коркем 4'], [38000000, '63 м², кухня — 12 м²', 2016, 'Коркем 2'], [23500000, '48 м², кухня — 7 м²', 2021, 'Budapest'], [36500000, '69.2 м², жилая — 37.9 м², кухня — 26.7 м²', 2018, 'Времена года. Зима'], [25000000, '39.3 м²', 2021, 'Sat City'], [78500000, '78 м², кухня — 13.2 м²', 2021, 'Grand Opera'], [25000000, '50 м², жилая — 30 м²', 2021, 'Alpamys'], [50000000, '75 м²', 2018, 'Highvill Park'], [70000000, '89.3 м², кухня — 17.8 м²', 2021, 'Hanshaiym'], [32400000, '70.3 м², кухня — 17.1 м²', 2021, 'Canada'], [45000000, '63 м², кухня — 12 м²', 2021, 'Capital Park'], [28000000, '38.3 м²', 2021, 'Коркем 4'], [31000000, '56.3 м², кухня — 13.04 м²', 2021, 'Sat City'], [31000000, '51 м²', 2021, 'Only Sun & Moon'], [18500000, '53.5 м²', 2021, 'Boston Comfort House'], [40000000, '60 м², кухня — 18 м²', 2020, 'Adal'], [75000000, '78 м², кухня — 14 м²', 2021, 'Esil Riverside'], [36000000, '47.3 м²', 2021, 'Only Sun & Moon'], [32000000, '45 м²', 2021, 'Коркем 4'], [55000000, '69.3 м²', 2020, 'Apple City'], [37000000, '66 м², кухня — 13 м²', 2020, 'Комфорт De Luxe'], [57000000, '81.5 м², кухня — 17 м²', 2020, 'Apple City'], [25000000, '56 м², кухня — 9 м²', 2018, 'Nova City'], [41000000, '56.86 м²', 2020, 'Времена года. Лето'], [58000000, '76 м²', 2020, 'Esil Riverside'], [38500000, '68 м², кухня — 16 м²', 2021, 'Triumph Art'], [30000000, '49 м², кухня — 12.2 м²', 2020, 'Камшат'], [53000000, '75 м²', 2017, 'GreenLine.BI City Seoul'], [25000000, '48.1 м²', 2021, 'Budapest'], [28000000, '55 м²', 2019, 'Экодом'], [53900000, '78 м², кухня — 18 м²', 2018, 'Венский квартал'], [50000000, '70.2 м²', 2018, 'Венский квартал'], [28800000, '50 м²', 2021, 'Champion'], [25500000, '42 м²', 2021, 'Alpamys'], [39500000, '58 м²', 2021, 'Inju City'], [31000000, '58.7 м², кухня — 10.3 м²', 2021, 'Sezim Qala.Baqyt'], [30000000, '80 м², жилая — 43.5 м², кухня — 14.2 м²', 2020, 'Экодом'], [39000000, '64 м², кухня — 11 м²', 2017, 'Каратау'], [52000000, '68 м², кухня — 15.14 м²', 2021, 'Atlant'], [47500000, '70 м², кухня — 15 м²', 2019, 'У Триумфальной Арки'], [34000000, '59 м², кухня — 12 м²', 2021, 'GreenLine.Ару Кала'], [38500000, '57 м²', 2021, 'College'], [64000000, '67.5 м², жилая — 35 м², кухня — 12.4 м²', 2021, 'Aq-Tay'], [38000000, '64.7 м²', 2019, 'GreenLine.BI City Seoul'], [38000000, '61.4 м²', 2017, 'Expo Plaza'], [26000000, '43.9 м²', 2021, 'Nova city на Туране'], [22500000, '55 м²', 2020, 'Family Park'], [25555555, '56 м², кухня — 6 м²', 2016, 'Жайна'], [40500000, '72 м²', 2020, 'Научный'], [20700000, '43 м², кухня — 5 м²', 2020, 'Жагалау 3'], [17000000, '55 м², кухня — 12 м²', 2021, 'Boston Comfort House'], [38000000, '69 м², кухня — 16 м²', 2021, 'Времена года. Лето'], [30500000, '60 м², кухня — 5 м²', 2021, 'Budapest'], [44500000, '69 м², кухня — 13 м²', 2021, 'Alpamys'], [37000000, '69 м², кухня — 11 м²', 2021, 'GreenLine.Asyl Mura'], [42000000, '75.6 м²', 2018, 'Smart House'], [28000000, '45 м², кухня — 6.1 м²', 2018, 'Smart House'], [23700000, '43 м², кухня — 4.3 м²', 2019, 'Экодом'], [33500000, '76 м²', 2016, 'Жагалау 3'], [38000000, '67.8 м², кухня — 12 м²', 2020, 'Brussels'], [46000000, '55 м²', 2020, 'Варшава'], [40000000, '67 м²', 2021, 'Аркада'], [21000000, '43 м²', 2018, 'Nova City'], [28500000, '61.8 м²', 2017, 'Елорда Даму по ул. Е16'], [53000000, '74.98 м², кухня — 12.98 м²', 2021, 'GreenLine.FreeDom'], [32000000, '61.4 м²', 2020, 'Brussels'], [37500000, '50 м²', 2020, 'Highvill Park 2'], [42200000, '61.7 м², кухня — 10.2 м²', 2018, 'Vivat Promenade'], [29000000, '69.3 м², кухня — 14.8 м²', 2020, 'Театральный'], [27000000, '42 м², кухня — 10 м²', 2021, 'Alpamys'], [40000000, '64 м², кухня — 10 м²', 2021, 'Tole Bi'], [49990000, '87.7 м², кухня — 21.2 м²', 2020, 'Apple City'], [23500000, '43.8 м²', 2019, 'Экодом'], [32000000, '53 м², кухня — 11 м²', 2020, 'Nova City'], [33000000, '48 м², кухня — 8 м²', 2021, 'Only Sun & Moon'], [35000000, '60 м²', 2018, 'Алтын Шар 1'], [18500000, '44 м², кухня — 8 м²', 2018, 'Куаныш'], [40000000, '50 м²', 2019, 'Highvill Park 2'], [40000000, '50 м²', 2019, 'Highvill Park 2'], [47000000, '65 м²', 2020, 'Park Avenue Exclusive'], [25600000, '45 м²', 2017, 'Absolute'], [25300000, '35.6 м², жилая — 20 м², кухня — 6 м²', 2019, 'Астана 2'], [40000000, '73 м²', 2020, 'Театральный'], [47000000, '71.6 м², кухня — 14.1 м²', 2019, 'Астана 2'], [36000000, '68 м²', 2019, 'Театральный'], [28000000, '53 м²', 2021, 'GreenLine.FreeDom'], [40460000, '63 м², жилая — 59.5 м², кухня — 11 м²', 2021, 'GreenLine.Asyl Mura'], [30300000, '52 м²', 2020, 'Apple City'], [25438451, '46 м²', 2020, 'Nova City'], [31999999, '57 м²', 2021, 'Варшава'], [21800000, '51 м², жилая — 48 м², кухня — 22 м²', 2021, 'Budapest'], [24500000, '61 м², кухня — 10 м²', 2021, 'Ансар'], [36000000, '61 м², кухня — 13 м²', 2018, 'Лазурный квартал'], [32700000, '53.4 м², кухня — 10.8 м²', 2021, 'Barys City'], [26000000, '48 м², жилая — 28 м², кухня — 6 м²', 2021, 'Сердце Столицы'], [43900000, '60 м², кухня — 13 м²', 2021, 'Adal'], [27790000, '45.3 м²', 2020, 'Galamat Towers'], [30500000, '55 м², кухня — 7 м²', 2018, 'Nova City'], [22950000, '36 м²', 2020, 'Copenhagen'], [33000000, '65.7 м², жилая — 36.5 м², кухня — 10.6 м²', 2018, 'Памир'], [42000000, '62 м², кухня — 13 м²', 2017, 'Expo Plaza'], [40000000, '60 м², кухня — 38 м²', 2021, 'Арнау'], [24000000, '55 м²', 2018, 'Экодом'], [38000000, '73 м², жилая — 69 м², кухня — 16 м²', 2020, 'Алматау'], [35000000, '64.7 м², жилая — 32 м², кухня — 13.69 м²', 2021, 'Сердце Столицы'], [20700000, '45 м², жилая — 41 м², кухня — 20 м²', 2021, 'Урбан'], [39000000, '67 м²', 2021, 'Paris'], [35000000, '57 м², кухня — 9.3 м²', 2018, 'Green Park'], [38000000, '60.1 м², жилая — 33.8 м², кухня — 12 м²', 2016, 'Лазурный квартал'], [29500000, '60 м², кухня — 10 м²', 2021, 'Budapest'], [19500000, '38 м²', 2021, 'Inju City'], [30000000, '66.6 м²', 2021, 'Alpamys'], [35000000, '63 м², кухня — 13 м²', 2016, 'Family Town'], [41800000, '75.1 м², кухня — 8.4 м²', 2021, 'Bucharest'], [34000000, '61.1 м², кухня — 10 м²', 2021, 'Bucharest'], [21000000, '53 м², кухня — 11 м²', 2018, 'Smart City'], [34000000, '55 м², кухня — 9 м²', 2021, 'GreenLine.Asyl Mura'], [38000000, '60 м², жилая — 30.7 м², кухня — 9.6 м²', 2016, 'Лазурный квартал'], [48500000, '68 м², кухня — 13 м²', 2021, 'Nura Esil'], [29500000, '62.5 м²', 2021, 'Inju City'], [15000000, '42.3 м², кухня — 6 м²', 2019, 'Астана'], [25500000, '59 м²', 2018, 'Алтын Шар 1'], [44700000, '64 м², кухня — 12.7 м²', 2020, 'Комфорт De Luxe'], [27500000, '66 м², кухня — 12 м²', 2021, 'Alatau City'], [33000000, '67.4 м², кухня — 12.7 м²', 2016, 'Жагалау 3'], [24500000, '52 м²', 2020, 'Family Park'], [34500000, '65.2 м²', 2017, 'Айсанам'], [37500000, '70.2 м², кухня — 10.2 м²', 2017, 'Expo Towers'], [40000000, '66 м², кухня — 14 м²', 2020, 'Театральный'], [55000000, '73 м²', 2021, 'GreenLine.Зеленый квартал'], [32000000, '62 м²', 2016, 'Family Town'], [55000000, '70 м², кухня — 14 м²', 2019, 'Nura Esil'], [22310810, '49.69 м², жилая — 28.29 м², кухня — 5.62 м²', 2021, 'Hokkaido'], [20196020, '44.98 м²', 2021, 'Hokkaido'], [30585880, '68.12 м²', 2021, 'Hokkaido'], [28659670, '63.83 м²', 2021, 'Hokkaido'], [40000000, '70 м²', 2020, 'Шатер'], [34500000, '56 м², кухня — 11 м²', 2019, 'Sezim Qala.Baqyt'], [41600000, '61.5 м², кухня — 12.3 м²', 2016, 'Expo Boulevard'], [26500000, '50 м²', 2020, 'Besterek'], [41600000, '61.5 м², кухня — 12.3 м²', 2016, 'Expo Boulevard'], [40500000, '56.2 м², кухня — 11.7 м²', 2016, 'Expo Boulevard'], [31000000, '57.2 м², кухня — 11.5 м²', 2021, 'Sezim Qala.Baqyt'], [32000000, '50 м²', 2021, 'GreenLine.FreeDom'], [28199000, '48 м²', 2017, 'Expo Plaza'], [32000000, '58 м²', 2016, 'Арнау-2'], [27500000, '63.7 м², кухня — 15.1 м²', 2021, 'Sat City'], [39000000, '67.5 м², кухня — 14 м²', 2020, 'Театральный'], [41500000, '55.9 м², кухня — 11.5 м²', 2016, 'Expo Boulevard'], [27500000, '48.1 м²', 2018, 'Brussels'], [33500000, '56 м²', 2021, 'Baspana'], [50000000, '66.5 м², кухня — 13 м²', 2019, 'Panorama Park'], [31500000, '60 м², жилая — 29 м², кухня — 12.4 м²', 2018, 'Зам Зам'], [24500000, '49.8 м²', 2021, 'Alpamys'], [34500000, '54 м², кухня — 10.3 м²', 2017, 'Арнау'], [24000000, '40 м², кухня — 6.1 м²', 2018, 'Smart House'], [27500000, '48.1 м²', 2018, 'Brussels'], [45000000, '74 м², кухня — 9.5 м²', 2021, 'GreenLine.Headliner'], [34500000, '54 м², кухня — 10.3 м²', 2017, 'Арнау'], [32000000, '58.78 м², кухня — 12 м²', 2020, 'Sezim Qala.Baqyt'], [34000000, '70 м²', 2017, 'Семь Палат'], [29200000, '47 м², кухня — 8 м²', 2021, 'Budapest'], [47200000, '66.6 м²', 2021, 'Only Sun & Moon'], [34000000, '65 м², кухня — 12 м²', 2021, 'Tole Bi'], [40000000, '66 м², кухня — 14 м²', 2020, 'Театральный'], [26800000, '45 м²', 2021, 'Коркем 4'], [42500000, '58 м², кухня — 9 м²', 2021, 'InjuArena'], [31500000, '71 м², кухня — 11 м²', 2018, 'Самрук Towers'], [26000000, '47 м²', 2021, 'College'], [27500000, '53 м²', 2018, 'Экодом'], [75000000, '80 м²', 2020, 'Ray Residence'], [25000000, '47 м²', 2020, 'Камшат'], [25500000, '47.5 м²', 2021, 'Budapest'], [32500000, '58.83 м², жилая — 35 м², кухня — 9 м²', 2017, 'Айнур Астана'], [32000000, '67.7 м², кухня — 15.2 м²', 2021, 'Brussels'], [40000000, '55.3 м², жилая — 34.5 м²', 2019, 'Астана 2'], [44000000, '67 м², кухня — 15.3 м²', 2021, 'Apple City'], [40000000, '58 м², кухня — 10 м²', 2016, 'Арнау-3'], [31000000, '60 м², кухня — 9 м²', 2018, 'Зам Зам'], [35000000, '49 м²', 2020, 'Sezim Qala.Baqyt'], [17500000, '48.6 м², кухня — 9.4 м²', 2020, 'Астана'], [30000000, '48 м²', 2021, 'Sat City'], [35500000, '59 м²', 2021, 'Sat City'], [41600000, '61.5 м², кухня — 12.3 м²', 2016, 'Expo Boulevard'], [25000000, '48 м², жилая — 30 м², кухня — 6 м²', 2019, 'Экодом'], [48000000, '68 м²', 2021, 'Aitys'], [28800000, '72 м²', 2017, 'Меркурий 2'], [28500000, '60.2 м², кухня — 12 м²', 2021, 'Sat City'], [42000000, '66 м², кухня — 12.5 м²', 2021, 'Brussels'], [28000000, '45 м²', 2021, 'Коркем 4'], [29900000, '41.5 м²', 2021, 'Коркем 3'], [28700000, '72.5 м², кухня — 12.5 м²', 2017, 'Меркурий 2']]\n"
     ]
    }
   ],
   "source": [
    "print(dataset)"
   ]
  },
  {
   "cell_type": "code",
   "execution_count": 45,
   "metadata": {},
   "outputs": [],
   "source": [
    "import csv\n",
    "\n",
    "header = ['Price', 'Floor_area', 'Const_year', 'Address']\n",
    "\n",
    "with open('KrishaData.csv', 'w', newline='', encoding='UTF8') as f:\n",
    "    writer = csv.writer(f)\n",
    "    writer.writerow(header)\n",
    "    for i in range(len(dataset)):\n",
    "        price = dataset[i][0]\n",
    "        floor_area = dataset[i][1]\n",
    "        const_year = dataset[i][2]\n",
    "        address = dataset[i][3]\n",
    "        data = [price, floor_area, const_year, address]\n",
    "        writer.writerow(data)"
   ]
  },
  {
   "cell_type": "code",
   "execution_count": 47,
   "metadata": {},
   "outputs": [
    {
     "name": "stdout",
     "output_type": "stream",
     "text": [
      "      Price              Floor_area  Const_year        Address\n",
      "0  29900000  64 м², кухня — 10.2 м²        2021        Tole Bi\n",
      "1  55500000                   80 м²        2016  Arnau Premium\n",
      "2  43500000                 78.5 м²        2020     Apple City\n",
      "3  34900000                   55 м²        2021        Варшава\n",
      "4  42024000                70.04 м²        2021       Landmark\n",
      "329\n"
     ]
    }
   ],
   "source": [
    "import pandas as pd\n",
    "\n",
    "df = pd.read_csv('KrishaData.csv')\n",
    "\n",
    "print(df.head())\n",
    "print(len(df))"
   ]
  },
  {
   "cell_type": "code",
   "execution_count": null,
   "metadata": {},
   "outputs": [],
   "source": []
  }
 ],
 "metadata": {
  "kernelspec": {
   "display_name": "Python 3 (ipykernel)",
   "language": "python",
   "name": "python3"
  },
  "language_info": {
   "codemirror_mode": {
    "name": "ipython",
    "version": 3
   },
   "file_extension": ".py",
   "mimetype": "text/x-python",
   "name": "python",
   "nbconvert_exporter": "python",
   "pygments_lexer": "ipython3",
   "version": "3.9.13"
  }
 },
 "nbformat": 4,
 "nbformat_minor": 4
}
